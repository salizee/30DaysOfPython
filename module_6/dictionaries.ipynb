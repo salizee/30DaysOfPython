{
 "cells": [
  {
   "cell_type": "markdown",
   "metadata": {},
   "source": [
    "### Exercises: Module 6"
   ]
  },
  {
   "cell_type": "markdown",
   "metadata": {},
   "source": [
    "### Create an empty dictionary called dog"
   ]
  },
  {
   "cell_type": "code",
   "execution_count": null,
   "metadata": {},
   "outputs": [],
   "source": [
    "dog = {}"
   ]
  },
  {
   "cell_type": "markdown",
   "metadata": {},
   "source": [
    "### Add name, color, breed, legs, age to the dog dictionary"
   ]
  },
  {
   "cell_type": "code",
   "execution_count": null,
   "metadata": {},
   "outputs": [],
   "source": [
    "dog = {\n",
    "    \"name\": \"\",\n",
    "    \"color\": \"\",\n",
    "    \"breed\": \"\",\n",
    "    \"legs\": 0,\n",
    "    \"age\": 0\n",
    "}"
   ]
  },
  {
   "cell_type": "markdown",
   "metadata": {},
   "source": [
    "### Create a student dictionary and add first_name, last_name, gender, age, marital status, skills, country, city and address as keys for the dictionary"
   ]
  },
  {
   "cell_type": "code",
   "execution_count": null,
   "metadata": {},
   "outputs": [],
   "source": [
    "student = {\n",
    "    \"first_name\": \"\",\n",
    "    \"last_name\": \"\",\n",
    "    \"gender\": \"\",\n",
    "    \"age\": 0,\n",
    "    \"marital_status\": \"\",\n",
    "    \"skills\": [],\n",
    "    \"country\": \"\",\n",
    "    \"city\": \"\",\n",
    "    \"address\": \"\"\n",
    "}"
   ]
  },
  {
   "cell_type": "markdown",
   "metadata": {},
   "source": [
    "### Get the length of the student dictionary"
   ]
  },
  {
   "cell_type": "code",
   "execution_count": null,
   "metadata": {},
   "outputs": [],
   "source": [
    "length_of_student = len(student)\n",
    "print(length_of_student)"
   ]
  },
  {
   "cell_type": "markdown",
   "metadata": {},
   "source": [
    "### Get the value of skills and check the data type, it should be a list"
   ]
  },
  {
   "cell_type": "code",
   "execution_count": null,
   "metadata": {},
   "outputs": [],
   "source": [
    "student = {\n",
    "    \"first_name\": \"\",\n",
    "    \"last_name\": \"\",\n",
    "    \"gender\": \"\",\n",
    "    \"age\": 0,\n",
    "    \"marital_status\": \"\",\n",
    "    \"skills\": [],\n",
    "    \"country\": \"\",\n",
    "    \"city\": \"\",\n",
    "    \"address\": \"\"\n",
    "}\n",
    "\n",
    "skills_value = student[\"skills\"]\n",
    "print(skills_value)\n",
    "print(type(skills_value))"
   ]
  },
  {
   "cell_type": "markdown",
   "metadata": {},
   "source": [
    "### Modify the skills values by adding one or two skills"
   ]
  },
  {
   "cell_type": "code",
   "execution_count": null,
   "metadata": {},
   "outputs": [],
   "source": [
    "# Adding skills to the skills list\n",
    "student[\"skills\"].append(\"Python\")\n",
    "student[\"skills\"].append(\"Data Analysis\")\n",
    "\n",
    "# Printing the updated skills list\n",
    "print(student[\"skills\"])\n",
    "\n",
    "# You can also add multiple skills at once by extending the list, like so:\n",
    "student[\"skills\"].extend([\"Machine Learning\", \"Communication\"])"
   ]
  },
  {
   "cell_type": "markdown",
   "metadata": {},
   "source": [
    "### Get the dictionary keys as a list"
   ]
  },
  {
   "cell_type": "code",
   "execution_count": null,
   "metadata": {},
   "outputs": [],
   "source": [
    "keys_list = list(student.keys())\n",
    "print(keys_list)"
   ]
  },
  {
   "cell_type": "markdown",
   "metadata": {},
   "source": [
    "### Get the dictionary values as a list"
   ]
  },
  {
   "cell_type": "code",
   "execution_count": null,
   "metadata": {},
   "outputs": [],
   "source": [
    "values_list = list(student.values())\n",
    "print(values_list)"
   ]
  },
  {
   "cell_type": "markdown",
   "metadata": {},
   "source": [
    "### Change the dictionary to a list of tuples using items() method"
   ]
  },
  {
   "cell_type": "code",
   "execution_count": null,
   "metadata": {},
   "outputs": [],
   "source": [
    "#To get the keys of the student dictionary as a list, you can use the keys() method and convert it to a list like this:\n",
    "keys_list = list(student.keys())\n",
    "print(keys_list)\n",
    "\n",
    "#To get the values of the student dictionary as a list, you can use the values() method and convert it to a list like this:\n",
    "values_list = list(student.values())\n",
    "print(values_list)\n",
    "\n",
    "#You can convert the student dictionary into a list of tuples using the items() method like this:\n",
    "student_tuples = list(student.items())\n",
    "print(student_tuples)"
   ]
  },
  {
   "cell_type": "markdown",
   "metadata": {},
   "source": [
    "### Delete one of the items in the dictionary\n",
    "### To delete an item from the student dictionary, you can use the del statement, or the pop()"
   ]
  },
  {
   "cell_type": "code",
   "execution_count": null,
   "metadata": {},
   "outputs": [],
   "source": [
    "del student[\"address\"]\n",
    "print(student)"
   ]
  },
  {
   "cell_type": "code",
   "execution_count": null,
   "metadata": {},
   "outputs": [],
   "source": [
    "deleted_item = student.pop(\"age\")\n",
    "print(deleted_item)  # This will print the value that was removed\n",
    "print(student)       # The dictionary after deletion"
   ]
  },
  {
   "cell_type": "markdown",
   "metadata": {},
   "source": [
    "### Delete one of the dictionaries"
   ]
  },
  {
   "cell_type": "code",
   "execution_count": null,
   "metadata": {},
   "outputs": [],
   "source": [
    "# Delete the dictionary\n",
    "del student\n",
    "\n",
    "# Try accessing it (will raise an error)\n",
    "print(student)  # This will raise a NameError: name 'student' is not defined"
   ]
  }
 ],
 "metadata": {
  "kernelspec": {
   "display_name": "base",
   "language": "python",
   "name": "python3"
  },
  "language_info": {
   "codemirror_mode": {
    "name": "ipython",
    "version": 3
   },
   "file_extension": ".py",
   "mimetype": "text/x-python",
   "name": "python",
   "nbconvert_exporter": "python",
   "pygments_lexer": "ipython3",
   "version": "3.12.3"
  }
 },
 "nbformat": 4,
 "nbformat_minor": 2
}
