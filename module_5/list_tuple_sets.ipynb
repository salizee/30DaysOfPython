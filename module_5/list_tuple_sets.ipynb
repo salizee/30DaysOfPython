{
 "cells": [
  {
   "cell_type": "markdown",
   "metadata": {},
   "source": [
    "### Exercises: Level 1"
   ]
  },
  {
   "cell_type": "markdown",
   "metadata": {},
   "source": [
    "### Declare an empty list"
   ]
  },
  {
   "cell_type": "code",
   "execution_count": null,
   "metadata": {},
   "outputs": [],
   "source": [
    "my_list = []"
   ]
  },
  {
   "cell_type": "markdown",
   "metadata": {},
   "source": [
    "### Declare a list with more than 5 items"
   ]
  },
  {
   "cell_type": "code",
   "execution_count": null,
   "metadata": {},
   "outputs": [],
   "source": [
    "my_list = [1, 2, 3, 4, 5, 6]"
   ]
  },
  {
   "cell_type": "markdown",
   "metadata": {},
   "source": [
    "### Find the length of your list"
   ]
  },
  {
   "cell_type": "code",
   "execution_count": null,
   "metadata": {},
   "outputs": [],
   "source": [
    "length_of_list = len(my_list)\n",
    "print(length_of_list)"
   ]
  },
  {
   "cell_type": "markdown",
   "metadata": {},
   "source": [
    "### Get the first item, the middle item and the last item of the list"
   ]
  },
  {
   "cell_type": "code",
   "execution_count": null,
   "metadata": {},
   "outputs": [],
   "source": [
    "first_item = my_list[0]  # First item (index 0)\n",
    "middle_item = my_list[len(my_list) // 2]  # Middle item (index of the middle element)\n",
    "last_item = my_list[-1]  # Last item (index -1)\n",
    "\n",
    "print(\"First item:\", first_item)\n",
    "print(\"Middle item:\", middle_item)\n",
    "print(\"Last item:\", last_item)"
   ]
  },
  {
   "cell_type": "markdown",
   "metadata": {},
   "source": [
    "### Declare a list called mixed_data_types, put your(name, age, height, marital status, address)"
   ]
  },
  {
   "cell_type": "code",
   "execution_count": null,
   "metadata": {},
   "outputs": [],
   "source": [
    "mixed_data_types = [\"Sani Ado\", 40, 8.9, \"Married\", \"153 Sardauna Crescent, Kano State\"]"
   ]
  },
  {
   "cell_type": "markdown",
   "metadata": {},
   "source": [
    "### Print the list using print()"
   ]
  },
  {
   "cell_type": "code",
   "execution_count": null,
   "metadata": {},
   "outputs": [],
   "source": [
    "mixed_data_types = [\"Sani Ado\", 40, 8.9, \"Married\", \"153 Sardauna Crescent, Kano State\"]\n",
    "\n",
    "print(mixed_data_types)"
   ]
  },
  {
   "cell_type": "markdown",
   "metadata": {},
   "source": [
    "### Print the number of companies in the list"
   ]
  },
  {
   "cell_type": "code",
   "execution_count": null,
   "metadata": {},
   "outputs": [],
   "source": [
    "companies = [\"Google\", \"Microsoft\", \"Apple\", \"Amazon\", \"Tesla\"]\n",
    "\n",
    "# Print the number of companies in the list\n",
    "print(\"Number of companies:\", len(companies))"
   ]
  },
  {
   "cell_type": "markdown",
   "metadata": {},
   "source": [
    "### Print the first, middle and last company"
   ]
  },
  {
   "cell_type": "code",
   "execution_count": null,
   "metadata": {},
   "outputs": [],
   "source": [
    "companies = [\"Google\", \"Microsoft\", \"Apple\", \"Amazon\", \"Tesla\"]\n",
    "\n",
    "# First company\n",
    "first_company = companies[0]\n",
    "\n",
    "# Middle company (assuming an odd number of elements)\n",
    "middle_company = companies[len(companies) // 2]\n",
    "\n",
    "# Last company\n",
    "last_company = companies[-1]\n",
    "\n",
    "# Print the results\n",
    "print(\"First company:\", first_company)\n",
    "print(\"Middle company:\", middle_company)\n",
    "print(\"Last company:\", last_company)"
   ]
  },
  {
   "cell_type": "markdown",
   "metadata": {},
   "source": [
    "### Print the list after modifying one of the companies"
   ]
  },
  {
   "cell_type": "code",
   "execution_count": null,
   "metadata": {},
   "outputs": [],
   "source": [
    "companies = [\"Google\", \"Microsoft\", \"Apple\", \"Amazon\", \"Tesla\"]\n",
    "\n",
    "# Modify the second company (index 1)\n",
    "companies[1] = \"Meta\"  # Change \"Microsoft\" to \"Meta\"\n",
    "\n",
    "# Print the modified list\n",
    "print(companies)"
   ]
  },
  {
   "cell_type": "markdown",
   "metadata": {},
   "source": [
    "### Add an IT company to it_companies"
   ]
  },
  {
   "cell_type": "code",
   "execution_count": null,
   "metadata": {},
   "outputs": [],
   "source": [
    "it_companies = [\"Google\", \"Microsoft\", \"Apple\", \"Amazon\", \"Tesla\"]\n",
    "\n",
    "# Add a new IT company (e.g., \"IBM\")\n",
    "it_companies.append(\"IBM\")\n",
    "\n",
    "# Print the updated list\n",
    "print(it_companies)"
   ]
  },
  {
   "cell_type": "markdown",
   "metadata": {},
   "source": [
    "### Insert an IT company in the middle of the companies list"
   ]
  },
  {
   "cell_type": "code",
   "execution_count": null,
   "metadata": {},
   "outputs": [],
   "source": [
    "companies = [\"Google\", \"Microsoft\", \"Apple\", \"Amazon\", \"Tesla\"]\n",
    "\n",
    "# Insert a new IT company (e.g., \"Intel\") in the middle of the list\n",
    "middle_index = len(companies) // 2\n",
    "companies.insert(middle_index, \"Intel\")\n",
    "\n",
    "# Print the updated list\n",
    "print(companies)"
   ]
  },
  {
   "cell_type": "markdown",
   "metadata": {},
   "source": [
    "### Change one of the it_companies names to uppercase (IBM excluded!)"
   ]
  },
  {
   "cell_type": "code",
   "execution_count": null,
   "metadata": {},
   "outputs": [],
   "source": [
    "it_companies = [\"Google\", \"Microsoft\", \"Apple\", \"Amazon\", \"Tesla\", \"IBM\"]\n",
    "\n",
    "# Change the name of \"Apple\" to uppercase (excluding \"IBM\")\n",
    "for i in range(len(it_companies)):\n",
    "    if it_companies[i] != \"IBM\":\n",
    "        it_companies[i] = it_companies[i].upper()\n",
    "        break  # Exit the loop after modifying one company\n",
    "\n",
    "# Print the updated list\n",
    "print(it_companies)"
   ]
  },
  {
   "cell_type": "markdown",
   "metadata": {},
   "source": [
    "### Join the it_companies with a string '#;  '"
   ]
  },
  {
   "cell_type": "code",
   "execution_count": null,
   "metadata": {},
   "outputs": [],
   "source": [
    "it_companies = [\"Google\", \"Microsoft\", \"Apple\", \"Amazon\", \"Tesla\", \"IBM\"]\n",
    "\n",
    "# Join the companies with \"#;  \" as the separator\n",
    "joined_companies = \"#;  \".join(it_companies)\n",
    "\n",
    "# Print the result\n",
    "print(joined_companies)"
   ]
  },
  {
   "cell_type": "markdown",
   "metadata": {},
   "source": [
    "### Check if a certain company exists in the it_companies list."
   ]
  },
  {
   "cell_type": "code",
   "execution_count": null,
   "metadata": {},
   "outputs": [],
   "source": [
    "it_companies = [\"Google\", \"Microsoft\", \"Apple\", \"Amazon\", \"Tesla\", \"IBM\"]\n",
    "\n",
    "# Company to check\n",
    "company_to_check = \"Microsoft\"\n",
    "\n",
    "# Check if the company exists in the list\n",
    "if company_to_check in it_companies:\n",
    "    print(f\"{company_to_check} exists in the list.\")\n",
    "else:\n",
    "    print(f\"{company_to_check} does not exist in the list.\")\n"
   ]
  },
  {
   "cell_type": "markdown",
   "metadata": {},
   "source": [
    "### Sort the list using sort() method"
   ]
  },
  {
   "cell_type": "code",
   "execution_count": null,
   "metadata": {},
   "outputs": [],
   "source": [
    "it_companies = [\"Google\", \"Microsoft\", \"Apple\", \"Amazon\", \"Tesla\", \"IBM\"]\n",
    "\n",
    "# Sort the list alphabetically\n",
    "it_companies.sort()\n",
    "\n",
    "# Print the sorted list\n",
    "print(it_companies)"
   ]
  },
  {
   "cell_type": "markdown",
   "metadata": {},
   "source": [
    "### Reverse the list in descending order using reverse() method"
   ]
  },
  {
   "cell_type": "code",
   "execution_count": null,
   "metadata": {},
   "outputs": [],
   "source": [
    "it_companies = [\"Google\", \"Microsoft\", \"Apple\", \"Amazon\", \"Tesla\", \"IBM\"]\n",
    "\n",
    "# Sort the list alphabetically first\n",
    "it_companies.sort()\n",
    "\n",
    "# Reverse the list in place to get descending order\n",
    "it_companies.reverse()\n",
    "\n",
    "# Print the reversed list\n",
    "print(it_companies)"
   ]
  },
  {
   "cell_type": "markdown",
   "metadata": {},
   "source": [
    "### Slice out the first 3 companies from the list"
   ]
  },
  {
   "cell_type": "code",
   "execution_count": null,
   "metadata": {},
   "outputs": [],
   "source": [
    "it_companies = [\"Google\", \"Microsoft\", \"Apple\", \"Amazon\", \"Tesla\", \"IBM\"]\n",
    "\n",
    "# Slice the first 3 companies\n",
    "first_three_companies = it_companies[:3]\n",
    "\n",
    "# Print the result\n",
    "print(first_three_companies)"
   ]
  },
  {
   "cell_type": "markdown",
   "metadata": {},
   "source": [
    "### Slice out the last 3 companies from the list"
   ]
  },
  {
   "cell_type": "code",
   "execution_count": null,
   "metadata": {},
   "outputs": [],
   "source": [
    "it_companies = [\"Google\", \"Microsoft\", \"Apple\", \"Amazon\", \"Tesla\", \"IBM\"]\n",
    "\n",
    "# Slice the last 3 companies\n",
    "last_three_companies = it_companies[-3:]\n",
    "\n",
    "# Print the result\n",
    "print(last_three_companies)"
   ]
  },
  {
   "cell_type": "markdown",
   "metadata": {},
   "source": [
    "### Slice out the middle IT company or companies from the list"
   ]
  },
  {
   "cell_type": "code",
   "execution_count": null,
   "metadata": {},
   "outputs": [],
   "source": [
    "it_companies = [\"Google\", \"Microsoft\", \"Apple\", \"Amazon\", \"Tesla\", \"IBM\"]\n",
    "\n",
    "# Find the middle index (for odd or even number of companies)\n",
    "middle_index = len(it_companies) // 2\n",
    "\n",
    "# Check if the number of companies is odd or even\n",
    "if len(it_companies) % 2 != 0:\n",
    "    # If odd, slice out the single middle company\n",
    "    middle_companies = it_companies[middle_index:middle_index + 1]\n",
    "else:\n",
    "    # If even, slice out the two middle companies\n",
    "    middle_companies = it_companies[middle_index - 1:middle_index + 1]\n",
    "\n",
    "# Print the result\n",
    "print(middle_companies)"
   ]
  },
  {
   "cell_type": "markdown",
   "metadata": {},
   "source": [
    "### Remove the first IT company from the list"
   ]
  },
  {
   "cell_type": "code",
   "execution_count": null,
   "metadata": {},
   "outputs": [],
   "source": [
    "# Remove the first IT company using pop\n",
    "it_companies = [\"Google\", \"Microsoft\", \"Apple\", \"Amazon\", \"Tesla\", \"IBM\"]\n",
    "it_companies.pop(0)\n",
    "# Print the updated list\n",
    "print(it_companies)"
   ]
  },
  {
   "cell_type": "code",
   "execution_count": null,
   "metadata": {},
   "outputs": [],
   "source": [
    "# Remove the first IT company using del\n",
    "it_companies = [\"Google\", \"Microsoft\", \"Apple\", \"Amazon\", \"Tesla\", \"IBM\"]\n",
    "del it_companies[0]\n",
    "# Print the updated list\n",
    "print(it_companies)"
   ]
  },
  {
   "cell_type": "markdown",
   "metadata": {},
   "source": [
    "### Remove the middle IT company or companies from the list"
   ]
  },
  {
   "cell_type": "code",
   "execution_count": null,
   "metadata": {},
   "outputs": [],
   "source": [
    "it_companies = [\"Google\", \"Microsoft\", \"Apple\", \"Amazon\", \"Tesla\", \"IBM\"]\n",
    "\n",
    "# Find the middle index (for odd or even number of companies)\n",
    "middle_index = len(it_companies) // 2\n",
    "\n",
    "# Check if the number of companies is odd or even\n",
    "if len(it_companies) % 2 != 0:\n",
    "    # If odd, remove the single middle company\n",
    "    removed_company = it_companies.pop(middle_index)\n",
    "else:\n",
    "    # If even, remove the two middle companies\n",
    "    removed_companies = it_companies[middle_index - 1:middle_index + 1]\n",
    "    del it_companies[middle_index - 1:middle_index + 1]\n",
    "\n",
    "# Print the updated list\n",
    "print(it_companies)"
   ]
  },
  {
   "cell_type": "markdown",
   "metadata": {},
   "source": [
    "### Remove the last IT company from the list"
   ]
  },
  {
   "cell_type": "code",
   "execution_count": null,
   "metadata": {},
   "outputs": [],
   "source": [
    "it_companies = [\"Google\", \"Microsoft\", \"Apple\", \"Amazon\", \"Tesla\", \"IBM\"]\n",
    "\n",
    "# Remove the last IT company using pop\n",
    "it_companies.pop(-1)\n",
    "\n",
    "# Print the updated list\n",
    "print(it_companies)"
   ]
  },
  {
   "cell_type": "code",
   "execution_count": null,
   "metadata": {},
   "outputs": [],
   "source": [
    "it_companies = [\"Google\", \"Microsoft\", \"Apple\", \"Amazon\", \"Tesla\", \"IBM\"]\n",
    "\n",
    "# Remove the last IT company using del\n",
    "del it_companies[-1]\n",
    "\n",
    "# Print the updated list\n",
    "print(it_companies)"
   ]
  },
  {
   "cell_type": "markdown",
   "metadata": {},
   "source": [
    "### Remove all IT companies from the list"
   ]
  },
  {
   "cell_type": "code",
   "execution_count": null,
   "metadata": {},
   "outputs": [],
   "source": [
    "#using clear method\n",
    "it_companies = [\"Google\", \"Microsoft\", \"Apple\", \"Amazon\", \"Tesla\", \"IBM\"]\n",
    "\n",
    "# Clear the entire list\n",
    "it_companies.clear()\n",
    "\n",
    "# Print the updated list\n",
    "print(it_companies)"
   ]
  },
  {
   "cell_type": "code",
   "execution_count": null,
   "metadata": {},
   "outputs": [],
   "source": [
    "#using reassignment\n",
    "it_companies = [\"Google\", \"Microsoft\", \"Apple\", \"Amazon\", \"Tesla\", \"IBM\"]\n",
    "\n",
    "# Reassign to an empty list\n",
    "it_companies = []\n",
    "\n",
    "# Print the updated list\n",
    "print(it_companies)"
   ]
  },
  {
   "cell_type": "markdown",
   "metadata": {},
   "source": [
    "### Destroy the IT companies list"
   ]
  },
  {
   "cell_type": "code",
   "execution_count": null,
   "metadata": {},
   "outputs": [],
   "source": [
    "it_companies = [\"Google\", \"Microsoft\", \"Apple\", \"Amazon\", \"Tesla\", \"IBM\"]\n",
    "\n",
    "# Destroy the IT companies list\n",
    "del it_companies\n",
    "\n",
    "# Try to print the list (this will raise an error)\n",
    "try:\n",
    "    print(it_companies)\n",
    "except NameError:\n",
    "    print(\"The list has been destroyed and is no longer accessible.\")"
   ]
  },
  {
   "cell_type": "markdown",
   "metadata": {},
   "source": [
    "### Join the following lists:"
   ]
  },
  {
   "cell_type": "code",
   "execution_count": 1,
   "metadata": {},
   "outputs": [
    {
     "name": "stdout",
     "output_type": "stream",
     "text": [
      "['HTML', 'CSS', 'JS', 'React', 'Redux', 'Node', 'Express', 'MongoDB']\n"
     ]
    }
   ],
   "source": [
    "# Join the lists using the + operator\n",
    "front_end = ['HTML', 'CSS', 'JS', 'React', 'Redux']\n",
    "back_end = ['Node', 'Express', 'MongoDB']\n",
    "full_stack = front_end + back_end\n",
    "# Print the joined list\n",
    "print(full_stack)"
   ]
  },
  {
   "cell_type": "code",
   "execution_count": null,
   "metadata": {},
   "outputs": [],
   "source": [
    "#using extend() method\n",
    "front_end = ['HTML', 'CSS', 'JS', 'React', 'Redux']\n",
    "back_end = ['Node', 'Express', 'MongoDB']\n",
    "# Create a copy of front_end and extend it with back_end\n",
    "full_stack = front_end.copy()\n",
    "full_stack.extend(back_end)\n",
    "# Print the joined list\n",
    "print(full_stack)"
   ]
  },
  {
   "cell_type": "markdown",
   "metadata": {},
   "source": [
    "### Exercises level 2"
   ]
  },
  {
   "cell_type": "markdown",
   "metadata": {},
   "source": [
    "#### The following is a list of 10 students ages:\n",
    "#### ages = [19, 22, 19, 24, 20, 25, 26, 24, 25, 24]"
   ]
  },
  {
   "cell_type": "markdown",
   "metadata": {},
   "source": [
    "### Sort the list and find the min and max age"
   ]
  },
  {
   "cell_type": "code",
   "execution_count": null,
   "metadata": {},
   "outputs": [],
   "source": [
    "ages = [19, 22, 19, 24, 20, 25, 26, 24, 25, 24]\n",
    "\n",
    "# Sort the list of ages\n",
    "ages.sort()\n",
    "\n",
    "# Find the minimum and maximum ages\n",
    "min_age = min(ages)\n",
    "max_age = max(ages)\n",
    "\n",
    "# Print the sorted list, min age, and max age\n",
    "print(\"Sorted ages:\", ages)\n",
    "print(\"Minimum age:\", min_age)\n",
    "print(\"Maximum age:\", max_age)"
   ]
  },
  {
   "cell_type": "markdown",
   "metadata": {},
   "source": [
    "### Add the min age and the max age again to the list"
   ]
  },
  {
   "cell_type": "code",
   "execution_count": null,
   "metadata": {},
   "outputs": [],
   "source": [
    "ages = [19, 22, 19, 24, 20, 25, 26, 24, 25, 24]\n",
    "\n",
    "# Sort the list of ages\n",
    "ages.sort()\n",
    "\n",
    "# Find the minimum and maximum ages\n",
    "min_age = min(ages)\n",
    "max_age = max(ages)\n",
    "\n",
    "# Add the min age and max age to the list again\n",
    "ages.append(min_age)\n",
    "ages.append(max_age)\n",
    "\n",
    "# Print the updated list\n",
    "print(\"Updated list of ages:\", ages)"
   ]
  },
  {
   "cell_type": "markdown",
   "metadata": {},
   "source": [
    "### Find the median age (one middle item or two middle items divided by two)"
   ]
  },
  {
   "cell_type": "code",
   "execution_count": null,
   "metadata": {},
   "outputs": [],
   "source": [
    "ages = [19, 22, 19, 24, 20, 25, 26, 24, 25, 24]\n",
    "\n",
    "# Sort the list of ages\n",
    "ages.sort()\n",
    "\n",
    "# Find the length of the list\n",
    "n = len(ages)\n",
    "\n",
    "# Calculate the median\n",
    "if n % 2 == 1:\n",
    "    # Odd length: middle element\n",
    "    median = ages[n // 2]\n",
    "else:\n",
    "    # Even length: average of the two middle elements\n",
    "    median = (ages[n // 2 - 1] + ages[n // 2]) / 2\n",
    "\n",
    "# Print the median\n",
    "print(\"Median age:\", median)"
   ]
  },
  {
   "cell_type": "markdown",
   "metadata": {},
   "source": [
    "### Find the average age (sum of all items divided by their number )"
   ]
  },
  {
   "cell_type": "code",
   "execution_count": null,
   "metadata": {},
   "outputs": [],
   "source": [
    "ages = [19, 22, 19, 24, 20, 25, 26, 24, 25, 24]\n",
    "\n",
    "# Calculate the sum of the ages\n",
    "sum_of_ages = sum(ages)\n",
    "\n",
    "# Calculate the number of elements in the list\n",
    "num_of_ages = len(ages)\n",
    "\n",
    "# Calculate the average age\n",
    "average_age = sum_of_ages / num_of_ages\n",
    "\n",
    "# Print the average age\n",
    "print(\"Average age:\", average_age)"
   ]
  },
  {
   "cell_type": "markdown",
   "metadata": {},
   "source": [
    "### Find the range of the ages (max minus min)"
   ]
  },
  {
   "cell_type": "code",
   "execution_count": null,
   "metadata": {},
   "outputs": [],
   "source": [
    "ages = [19, 22, 19, 24, 20, 25, 26, 24, 25, 24]\n",
    "\n",
    "# Find the maximum and minimum ages\n",
    "max_age = max(ages)\n",
    "min_age = min(ages)\n",
    "\n",
    "# Calculate the range\n",
    "age_range = max_age - min_age\n",
    "\n",
    "# Print the range\n",
    "print(\"Range of ages:\", age_range)"
   ]
  },
  {
   "cell_type": "markdown",
   "metadata": {},
   "source": [
    "### Compare the value of (min - average) and (max - average), use abs() method"
   ]
  },
  {
   "cell_type": "code",
   "execution_count": null,
   "metadata": {},
   "outputs": [],
   "source": [
    "ages = [19, 22, 19, 24, 20, 25, 26, 24, 25, 24]\n",
    "\n",
    "# Calculate the sum of the ages\n",
    "sum_of_ages = sum(ages)\n",
    "\n",
    "# Calculate the number of elements in the list\n",
    "num_of_ages = len(ages)\n",
    "\n",
    "# Calculate the average age\n",
    "average_age = sum_of_ages / num_of_ages\n",
    "\n",
    "# Find the maximum and minimum ages\n",
    "max_age = max(ages)\n",
    "min_age = min(ages)\n",
    "\n",
    "# Calculate the absolute differences\n",
    "min_diff = abs(min_age - average_age)\n",
    "max_diff = abs(max_age - average_age)\n",
    "\n",
    "# Print the differences\n",
    "print(\"Absolute difference (min - average):\", min_diff)\n",
    "print(\"Absolute difference (max - average):\", max_diff)"
   ]
  },
  {
   "cell_type": "markdown",
   "metadata": {},
   "source": [
    "### Find the middle country(ies) in the countries list"
   ]
  },
  {
   "cell_type": "code",
   "execution_count": null,
   "metadata": {},
   "outputs": [],
   "source": [
    "countries = ['USA', 'Canada', 'Mexico', 'Brazil', 'Argentina', 'Germany', 'India']\n",
    "\n",
    "# Find the length of the list\n",
    "n = len(countries)\n",
    "\n",
    "# Check if the number of countries is odd or even\n",
    "if n % 2 == 1:\n",
    "    # If odd, the middle country is the one at index n // 2\n",
    "    middle_country = countries[n // 2]\n",
    "    print(\"Middle country:\", middle_country)\n",
    "else:\n",
    "    # If even, the middle countries are at indices n // 2 - 1 and n // 2\n",
    "    middle_countries = countries[n // 2 - 1 : n // 2 + 1]\n",
    "    print(\"Middle countries:\", middle_countries)"
   ]
  },
  {
   "cell_type": "markdown",
   "metadata": {},
   "source": [
    "### Divide the countries list into two equal lists if it is even if not one more country for the first half."
   ]
  },
  {
   "cell_type": "code",
   "execution_count": null,
   "metadata": {},
   "outputs": [],
   "source": [
    "countries = ['USA', 'Canada', 'Mexico', 'Brazil', 'Argentina', 'Germany', 'India']\n",
    "\n",
    "# Find the length of the list\n",
    "n = len(countries)\n",
    "\n",
    "# Calculate the midpoint\n",
    "midpoint = (n + 1) // 2  # Add 1 to n if it's odd, so the first half will have one more element\n",
    "\n",
    "# Divide the list into two halves\n",
    "first_half = countries[:midpoint]\n",
    "second_half = countries[midpoint:]\n",
    "\n",
    "# Print the two halves\n",
    "print(\"First half:\", first_half)\n",
    "print(\"Second half:\", second_half)"
   ]
  },
  {
   "cell_type": "markdown",
   "metadata": {},
   "source": [
    "### Unpack the first three countries and the rest as scandic countries."
   ]
  },
  {
   "cell_type": "code",
   "execution_count": null,
   "metadata": {},
   "outputs": [],
   "source": [
    "countries = ['China', 'Russia', 'USA', 'Finland', 'Sweden', 'Norway', 'Denmark']\n",
    "\n",
    "# Unpack the first three countries and the rest as Scandic countries\n",
    "first_three, *scandic_countries = countries\n",
    "\n",
    "# Print the unpacked countries\n",
    "print(\"First three countries:\", first_three)\n",
    "print(\"Scandic countries:\", scandic_countries)"
   ]
  },
  {
   "cell_type": "markdown",
   "metadata": {},
   "source": [
    "### Tuple Exercises\n",
    "### Tuple Exercises: Level 1"
   ]
  },
  {
   "cell_type": "markdown",
   "metadata": {},
   "source": [
    "### Create an empty tuple"
   ]
  },
  {
   "cell_type": "code",
   "execution_count": null,
   "metadata": {},
   "outputs": [],
   "source": [
    "empty_tuple = ()\n",
    "print(\"Empty tuple:\", empty_tuple)"
   ]
  },
  {
   "cell_type": "markdown",
   "metadata": {},
   "source": [
    "### Create a tuple containing names of your sisters and your brothers (imaginary siblings are fine)"
   ]
  },
  {
   "cell_type": "code",
   "execution_count": null,
   "metadata": {},
   "outputs": [],
   "source": [
    "brothers = ('Musa', 'Abubakar', 'Ibrahim')\n",
    "sisters = ('Safiyya', 'Fatima')\n",
    "print(\"Brothers:\", brothers)\n",
    "print(\"Sisters:\", sisters)"
   ]
  },
  {
   "cell_type": "markdown",
   "metadata": {},
   "source": [
    "### Join brothers and sisters tuples and assign it to siblings"
   ]
  },
  {
   "cell_type": "code",
   "execution_count": null,
   "metadata": {},
   "outputs": [],
   "source": [
    "siblings = brothers + sisters\n",
    "print(\"Siblings:\", siblings)"
   ]
  },
  {
   "cell_type": "markdown",
   "metadata": {},
   "source": [
    "### How many siblings do you have?"
   ]
  },
  {
   "cell_type": "code",
   "execution_count": null,
   "metadata": {},
   "outputs": [],
   "source": [
    "number_of_siblings = len(siblings)\n",
    "print(\"Number of siblings:\", number_of_siblings)"
   ]
  },
  {
   "cell_type": "markdown",
   "metadata": {},
   "source": [
    "### Modify the siblings tuple and add the name of your father and mother and assign it to family_members"
   ]
  },
  {
   "cell_type": "code",
   "execution_count": null,
   "metadata": {},
   "outputs": [],
   "source": [
    "brothers = ('Musa', 'Abubakar', 'Ibrahim')\n",
    "sisters = ('Safiyya', 'Fatima')XD\n",
    "siblings = brothers + sisters\n",
    "father = 'Muhammad'\n",
    "mother = 'Salamatu'\n",
    "family_members = siblings + (father, mother)\n",
    "print(\"Family members:\", family_members)"
   ]
  },
  {
   "cell_type": "markdown",
   "metadata": {},
   "source": [
    "### Tuple Exercises: Level 2"
   ]
  },
  {
   "cell_type": "markdown",
   "metadata": {},
   "source": [
    "### Unpack siblings and parents from family_members"
   ]
  },
  {
   "cell_type": "code",
   "execution_count": null,
   "metadata": {},
   "outputs": [],
   "source": [
    "family_members = ('Adnan', 'Suraj', 'Musa', 'Balarabe', 'Sule', 'Dahiru', 'Lukman')\n",
    "\n",
    "# Unpack siblings and parents\n",
    "siblings, father, mother = family_members[:-2], family_members[-2], family_members[-1]\n",
    "\n",
    "print(\"Siblings:\", siblings)\n",
    "print(\"Father:\", father)\n",
    "print(\"Mother:\", mother)"
   ]
  },
  {
   "cell_type": "markdown",
   "metadata": {},
   "source": [
    "### Create fruits, vegetables and animal products tuples. Join the three tuples and assign it to a variable called food_stuff_tp."
   ]
  },
  {
   "cell_type": "code",
   "execution_count": null,
   "metadata": {},
   "outputs": [],
   "source": [
    "fruits = ('apple', 'banana', 'cherry', 'mango')\n",
    "vegetables = ('carrot', 'potato', 'broccoli', 'spinach')\n",
    "animal_products = ('milk', 'cheese', 'eggs', 'butter')\n",
    "\n",
    "# Join the three tuples into one tuple\n",
    "food_stuff_tp = fruits + vegetables + animal_products\n",
    "\n",
    "print(\"Food Stuff Tuple:\", food_stuff_tp)"
   ]
  },
  {
   "cell_type": "markdown",
   "metadata": {},
   "source": [
    "### Change the about food_stuff_tp tuple to a food_stuff_lt list"
   ]
  },
  {
   "cell_type": "code",
   "execution_count": null,
   "metadata": {},
   "outputs": [],
   "source": [
    "food_stuff_lt = list(food_stuff_tp)\n",
    "print(\"Food Stuff List:\", food_stuff_lt)"
   ]
  },
  {
   "cell_type": "markdown",
   "metadata": {},
   "source": [
    "### slice out the middle item or items from the food_stuff_tp tuple or food_stuff_lt list."
   ]
  },
  {
   "cell_type": "code",
   "execution_count": null,
   "metadata": {},
   "outputs": [],
   "source": [
    "# For tuple\n",
    "middle_item_tp = food_stuff_tp[len(food_stuff_tp) // 2] if len(food_stuff_tp) % 2 == 1 else food_stuff_tp[len(food_stuff_tp) // 2 - 1 : len(food_stuff_tp) // 2 + 1]\n",
    "print(\"Middle item from tuple:\", middle_item_tp)\n",
    "\n",
    "# For list\n",
    "middle_item_lt = food_stuff_lt[len(food_stuff_lt) // 2] if len(food_stuff_lt) % 2 == 1 else food_stuff_lt[len(food_stuff_lt) // 2 - 1 : len(food_stuff_lt) // 2 + 1]\n",
    "print(\"Middle item from list:\", middle_item_lt)"
   ]
  },
  {
   "cell_type": "markdown",
   "metadata": {},
   "source": [
    "### Slice out the first three items and the last three items from food_staff_lt list"
   ]
  },
  {
   "cell_type": "code",
   "execution_count": null,
   "metadata": {},
   "outputs": [],
   "source": [
    "first_three_items = food_stuff_lt[:3]\n",
    "last_three_items = food_stuff_lt[-3:]\n",
    "\n",
    "print(\"First three items:\", first_three_items)\n",
    "print(\"Last three items:\", last_three_items)"
   ]
  },
  {
   "cell_type": "markdown",
   "metadata": {},
   "source": [
    "### Delete the food_staff_tp tuple completely"
   ]
  },
  {
   "cell_type": "code",
   "execution_count": null,
   "metadata": {},
   "outputs": [],
   "source": [
    "del food_stuff_tp\n",
    "# Uncomment the next line to see that the tuple is deleted.\n",
    "# print(food_stuff_tp)  # This will raise a NameError as food_stuff_tp no longer exists"
   ]
  },
  {
   "cell_type": "markdown",
   "metadata": {},
   "source": [
    "### Check if an item exists in tuple:"
   ]
  },
  {
   "cell_type": "code",
   "execution_count": null,
   "metadata": {},
   "outputs": [],
   "source": [
    "nordic_countries = ('Denmark', 'Finland', 'Iceland', 'Norway', 'Sweden')\n",
    "\n",
    "# Check if 'Estonia' is in nordic countries\n",
    "is_estonia_nordic = 'Estonia' in nordic_countries\n",
    "print(\"Is 'Estonia' a Nordic country?\", is_estonia_nordic)"
   ]
  },
  {
   "cell_type": "markdown",
   "metadata": {},
   "source": [
    "### Check if 'Estonia' is a nordic country"
   ]
  },
  {
   "cell_type": "code",
   "execution_count": null,
   "metadata": {},
   "outputs": [],
   "source": [
    "# Check if 'Estonia' is in nordic countries\n",
    "nordic_countries = ('Denmark', 'Finland','Iceland', 'Norway', 'Sweden')\n",
    "is_Estonia_nordic = 'Estonia' in nordic_countries\n",
    "print(\"Is 'Estonia' a Nordic country?\", is_Estonia_nordic)"
   ]
  },
  {
   "cell_type": "code",
   "execution_count": null,
   "metadata": {},
   "outputs": [],
   "source": [
    "# Check if 'Iceland' is in nordic countries\n",
    "nordic_countries = ('Denmark', 'Finland','Iceland', 'Norway', 'Sweden')\n",
    "is_iceland_nordic = 'Iceland' in nordic_countries\n",
    "print(\"Is 'Iceland' a Nordic country?\", is_iceland_nordic)"
   ]
  },
  {
   "cell_type": "markdown",
   "metadata": {},
   "source": [
    "### Sets Exercises: Level 1"
   ]
  },
  {
   "cell_type": "markdown",
   "metadata": {},
   "source": [
    "### Find the length of the set it_companies"
   ]
  },
  {
   "cell_type": "code",
   "execution_count": null,
   "metadata": {},
   "outputs": [],
   "source": [
    "it_companies = {'Facebook', 'Google', 'Microsoft', 'Apple', 'IBM', 'Oracle', 'Amazon'}\n",
    "length_of_it_companies = len(it_companies)\n",
    "print(\"Length of it_companies set:\", length_of_it_companies)"
   ]
  },
  {
   "cell_type": "markdown",
   "metadata": {},
   "source": [
    "### Add 'Twitter' to it_companies"
   ]
  },
  {
   "cell_type": "code",
   "execution_count": null,
   "metadata": {},
   "outputs": [],
   "source": [
    "it_companies = {'Facebook', 'Google', 'Microsoft', 'Apple', 'IBM', 'Oracle', 'Amazon'}\n",
    "it_companies.add('Twitter')\n",
    "print(\"it_companies after adding 'Twitter':\", it_companies)"
   ]
  },
  {
   "cell_type": "markdown",
   "metadata": {},
   "source": [
    "### Insert multiple IT companies at once to the set it_companies"
   ]
  },
  {
   "cell_type": "code",
   "execution_count": null,
   "metadata": {},
   "outputs": [],
   "source": [
    "it_companies.update({'Snapchat', 'LinkedIn', 'Tesla'})\n",
    "print(\"it_companies after adding multiple companies:\", it_companies)"
   ]
  },
  {
   "cell_type": "markdown",
   "metadata": {},
   "source": [
    "### Remove one of the companies from the set it_companies"
   ]
  },
  {
   "cell_type": "code",
   "execution_count": null,
   "metadata": {},
   "outputs": [],
   "source": [
    "it_companies.remove('Google')\n",
    "print(\"it_companies after removing 'Google':\", it_companies)"
   ]
  },
  {
   "cell_type": "markdown",
   "metadata": {},
   "source": [
    "### What is the difference between remove and discard"
   ]
  },
  {
   "cell_type": "code",
   "execution_count": null,
   "metadata": {},
   "outputs": [],
   "source": [
    "it_companies.remove('NonExistentCompany')  # Will raise KeyError if the company is not found"
   ]
  },
  {
   "cell_type": "code",
   "execution_count": null,
   "metadata": {},
   "outputs": [],
   "source": [
    "it_companies.discard('NonExistentCompany')  # Will NOT raise an error, even if the company doesn't exist"
   ]
  },
  {
   "cell_type": "markdown",
   "metadata": {},
   "source": [
    "### Sets Exercises: Level 2"
   ]
  },
  {
   "cell_type": "markdown",
   "metadata": {},
   "source": [
    "#### Join A and B"
   ]
  },
  {
   "cell_type": "code",
   "execution_count": null,
   "metadata": {},
   "outputs": [],
   "source": [
    "A = {19, 22, 24, 20, 25, 26}\n",
    "B = {19, 22, 20, 25, 26, 24, 28, 27}\n",
    "\n",
    "joined_A_B = A | B  # Union of A and B\n",
    "print(\"Joined A and B:\", joined_A_B)"
   ]
  },
  {
   "cell_type": "markdown",
   "metadata": {},
   "source": [
    "### Find A intersection B"
   ]
  },
  {
   "cell_type": "code",
   "execution_count": null,
   "metadata": {},
   "outputs": [],
   "source": [
    "intersection_A_B = A & B  # Intersection of A and B\n",
    "print(\"A intersection B:\", intersection_A_B)"
   ]
  },
  {
   "cell_type": "markdown",
   "metadata": {},
   "source": [
    "### Is A subset of B"
   ]
  },
  {
   "cell_type": "code",
   "execution_count": null,
   "metadata": {},
   "outputs": [],
   "source": [
    "A = {19, 22, 24, 20, 25, 26}\n",
    "B = {19, 22, 20, 25, 26, 24, 28, 27}\n",
    "is_A_subset_of_B = A.issubset(B)\n",
    "print(\"Is A a subset of B?\", is_A_subset_of_B)"
   ]
  },
  {
   "cell_type": "markdown",
   "metadata": {},
   "source": [
    "### Are A and B disjoint sets"
   ]
  },
  {
   "cell_type": "code",
   "execution_count": null,
   "metadata": {},
   "outputs": [],
   "source": [
    "are_A_and_B_disjoint = A.isdisjoint(B)\n",
    "print(\"Are A and B disjoint sets?\", are_A_and_B_disjoint)"
   ]
  },
  {
   "cell_type": "markdown",
   "metadata": {},
   "source": [
    "### Join A with B and B with A"
   ]
  },
  {
   "cell_type": "code",
   "execution_count": null,
   "metadata": {},
   "outputs": [],
   "source": [
    "join_A_with_B = A | B\n",
    "join_B_with_A = B | A\n",
    "print(\"A union B:\", join_A_with_B)\n",
    "print(\"B union A:\", join_B_with_A)"
   ]
  },
  {
   "cell_type": "markdown",
   "metadata": {},
   "source": [
    "### What is the symmetric difference between A and B"
   ]
  },
  {
   "cell_type": "code",
   "execution_count": null,
   "metadata": {},
   "outputs": [],
   "source": [
    "symmetric_difference_A_B = A ^ B  # Symmetric difference of A and B\n",
    "print(\"Symmetric difference between A and B:\", symmetric_difference_A_B)"
   ]
  },
  {
   "cell_type": "markdown",
   "metadata": {},
   "source": [
    "### Delete the sets completely"
   ]
  },
  {
   "cell_type": "code",
   "execution_count": null,
   "metadata": {},
   "outputs": [],
   "source": [
    "del A\n",
    "del B\n",
    "# After deleting, attempting to print will raise an error because the sets no longer exist.\n",
    "# Uncomment the following lines to see the error.\n",
    " #print(A)\n",
    " #print(B)"
   ]
  },
  {
   "cell_type": "markdown",
   "metadata": {},
   "source": [
    "### Sets Exercises: Level 3"
   ]
  },
  {
   "cell_type": "markdown",
   "metadata": {},
   "source": [
    "### Convert the ages to a set and compare the length of the list and the set, which one is bigger?"
   ]
  },
  {
   "cell_type": "code",
   "execution_count": null,
   "metadata": {},
   "outputs": [],
   "source": [
    "age = [22, 19, 24, 25, 26, 24, 25, 24]\n",
    "age_set = set(age)\n",
    "len_age_list = len(age)  # Length of the list\n",
    "len_age_set = len(age_set)  # Length of the set\n",
    "\n",
    "print(f\"Length of the list: {len_age_list}\")\n",
    "print(f\"Length of the set: {len_age_set}\")"
   ]
  },
  {
   "cell_type": "markdown",
   "metadata": {},
   "source": [
    "### Explain the difference between the following data types: string, list, tuple and set"
   ]
  },
  {
   "cell_type": "markdown",
   "metadata": {},
   "source": [
    "### String (str):\n",
    "Definition: A string is a sequence of characters enclosed in quotes (' ', \" \").\n",
    "Example: \"Hello, World!\"\n",
    "Properties:\n",
    "Immutable: Once a string is created, it cannot be modified.\n",
    "Ordered: Characters in a string have a specific order, and you can access them via indices.\n",
    "Can be sliced, concatenated, and iterated over.\n",
    "\n",
    "### List (list):\n",
    "Definition: A list is an ordered collection of items, which can be of any data type (strings, numbers, other lists, etc.).\n",
    "Example: [1, 2, 3, 'apple', [5, 6]]\n",
    "Properties:\n",
    "Mutable: Lists can be modified (elements can be added, removed, or changed).\n",
    "Ordered: Items are indexed, and the order is preserved.\n",
    "Can contain duplicate values.\n",
    "Can be sliced, iterated over, and modified.\n",
    "\n",
    "### Tuple (tuple):\n",
    "Definition: A tuple is a collection of items, similar to a list, but immutable.\n",
    "Example: (1, 2, 3, 'apple')\n",
    "Properties:\n",
    "Immutable: Once a tuple is created, its contents cannot be changed.\n",
    "Ordered: Items in a tuple are indexed, and the order is preserved.\n",
    "Can contain duplicate values.\n",
    "Useful when you want to ensure the data remains unchanged.\n",
    "\n",
    "### Set (set):\n",
    "Definition: A set is an unordered collection of unique items.\n",
    "Example: {1, 2, 3, 4}\n",
    "Properties:\n",
    "Unordered: There is no indexing, so you cannot access items via indices.\n",
    "Mutable: Items can be added or removed, but the set itself does not maintain order.\n",
    "No Duplicates: Sets do not allow duplicate items, so only unique elements are stored.\n",
    "Provides set operations like union, intersection, difference, etc.\n"
   ]
  },
  {
   "cell_type": "markdown",
   "metadata": {},
   "source": [
    "### I am a teacher and I love to inspire and teach people. How many unique words have been used in the sentence? Use the split methods and set to get the unique words."
   ]
  },
  {
   "cell_type": "code",
   "execution_count": null,
   "metadata": {},
   "outputs": [],
   "source": [
    "sentence = \"I am a teacher and I love to inspire and teach people.\"\n",
    "words = sentence.split()  # Split sentence into words\n",
    "unique_words = set(words)  # Convert the list of words to a set\n",
    "\n",
    "print(f\"Unique words in the sentence: {unique_words}\")\n",
    "print(f\"Number of unique words: {len(unique_words)}\")"
   ]
  }
 ],
 "metadata": {
  "kernelspec": {
   "display_name": "base",
   "language": "python",
   "name": "python3"
  },
  "language_info": {
   "codemirror_mode": {
    "name": "ipython",
    "version": 3
   },
   "file_extension": ".py",
   "mimetype": "text/x-python",
   "name": "python",
   "nbconvert_exporter": "python",
   "pygments_lexer": "ipython3",
   "version": "3.12.3"
  }
 },
 "nbformat": 4,
 "nbformat_minor": 2
}
