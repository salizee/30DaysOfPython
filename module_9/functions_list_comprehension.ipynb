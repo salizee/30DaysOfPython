{
 "cells": [
  {
   "cell_type": "markdown",
   "metadata": {},
   "source": [
    "#### Exercises: Module 9 (List Comprehension)\n",
    "#### Exercises: Level 1"
   ]
  },
  {
   "cell_type": "markdown",
   "metadata": {},
   "source": [
    "1. Declare a function add_two_numbers. It takes two parameters and it returns a sum"
   ]
  },
  {
   "cell_type": "code",
   "execution_count": null,
   "metadata": {},
   "outputs": [],
   "source": [
    "def add_two_numbers(a,b):\n",
    "  sum = a + b\n",
    "  return sum\n",
    "\n",
    "print(f'The sum of 3 and 5 is {add_two_numbers(3,5)}')"
   ]
  },
  {
   "cell_type": "markdown",
   "metadata": {},
   "source": [
    "2. Area of a circle is calculated as follows: area = π x r x r. Write a function that calculates area_of_circle."
   ]
  },
  {
   "cell_type": "code",
   "execution_count": null,
   "metadata": {},
   "outputs": [],
   "source": [
    "def area_of_circle(r):\n",
    "  import math\n",
    "  area = math.pi * r **2\n",
    "  return area\n",
    "print(f'The area of a circle of radius 7cm is {area_of_circle(7)} cm2')\n"
   ]
  },
  {
   "cell_type": "markdown",
   "metadata": {},
   "source": [
    "3. Write a function called add_all_nums which takes arbitrary number of arguments and sums all the arguments. Check if all the list items are number types. If not do give a reasonable feedback."
   ]
  },
  {
   "cell_type": "code",
   "execution_count": null,
   "metadata": {},
   "outputs": [],
   "source": [
    "def add_all_nums(*x):\n",
    "  sum = 0\n",
    "  for num in x:\n",
    "    if type(num)==int or type(num)==float:\n",
    "      sum +=num\n",
    "    else:\n",
    "      sum = 'Please enter a whole number'\n",
    "  return sum\n",
    "print(f'The sum of 2,3 and 5.4 is {add_all_nums(2,3,5.4)}')\n"
   ]
  },
  {
   "cell_type": "markdown",
   "metadata": {},
   "source": [
    "-4. Temperature in °C can be converted to °F using this formula: °F = (°C x 9/5) + 32. Write a function which converts °C to °F, convert_celsius_to-fahrenheit."
   ]
  },
  {
   "cell_type": "code",
   "execution_count": null,
   "metadata": {},
   "outputs": [],
   "source": [
    "def convert_celsius_to_fahrenheit(x):\n",
    "  F = x * (9/5) + 32\n",
    "  return F\n",
    "print(f'32 degrees celsius is {convert_celsius_to_fahrenheit(32)} in Fahrenheits')\n"
   ]
  },
  {
   "cell_type": "markdown",
   "metadata": {},
   "source": [
    "5. Write a function called check-season, it takes a month parameter and returns the season: Autumn, Winter, Spring or Summer."
   ]
  },
  {
   "cell_type": "code",
   "execution_count": null,
   "metadata": {},
   "outputs": [],
   "source": [
    "def check_season(month):\n",
    "  if month in ['September','October','November']:\n",
    "    season = 'Autumn or Fall'\n",
    "  elif month in ['December','January','February']:\n",
    "    season = 'Winter'\n",
    "  elif month in ['March','April','May']:\n",
    "    season = 'Spring'\n",
    "  else: \n",
    "    season = 'Summer'\n",
    "  return season\n",
    "\n",
    "print('March is in: ',check_season('March'))"
   ]
  },
  {
   "cell_type": "markdown",
   "metadata": {},
   "source": [
    "6. Write a function called calculate_slope which return the slope of a linear equation"
   ]
  },
  {
   "cell_type": "code",
   "execution_count": 9,
   "metadata": {},
   "outputs": [],
   "source": [
    "def calculate_slope(y,m,c):\n",
    "    # equation in the form of y = mx + c, m is the slope\n",
    "  return m\n"
   ]
  },
  {
   "cell_type": "markdown",
   "metadata": {},
   "source": [
    "7. Quadratic equation is calculated as follows: ax² + bx + c = 0. Write a function which calculates solution set of a quadratic equation, solve_quadratic_eqn."
   ]
  },
  {
   "cell_type": "code",
   "execution_count": null,
   "metadata": {},
   "outputs": [],
   "source": [
    "def solve_quadratic_eqn(a,b,c):\n",
    "  x1 = (-b + (b**2 - 4 *a*c)**2)/ (2*a)\n",
    "  x2 = (-b - (b**2 - 4 *a*c)**2)/ (2*a)\n",
    "  return x1,x2\n",
    "print(f'The solution set of x2 - 6x + 9 is {solve_quadratic_eqn(1,-6,9)}')"
   ]
  },
  {
   "cell_type": "markdown",
   "metadata": {},
   "source": [
    "8. Declare a function named print_list. It takes a list as a parameter and it prints out each element of the list."
   ]
  },
  {
   "cell_type": "code",
   "execution_count": null,
   "metadata": {},
   "outputs": [],
   "source": [
    "def print_list(y):\n",
    "  for i in y:\n",
    "    print(i)\n",
    "    \n",
    "print_list(['yam','mango','guava'])"
   ]
  },
  {
   "cell_type": "markdown",
   "metadata": {},
   "source": [
    "9. Declare a function named reverse_list. It takes an array as a parameter and it returns the reverse of the array (use loops)."
   ]
  },
  {
   "cell_type": "code",
   "execution_count": null,
   "metadata": {},
   "outputs": [],
   "source": [
    "def reverse_list(list):\n",
    "  rev_list = []\n",
    "  for i in range(len(list)-1,-1,-1):\n",
    "    rev_list.append(list[i])\n",
    "  return(rev_list)\n",
    "\n",
    "reverse_list([1,2,3,4,5])\n"
   ]
  },
  {
   "cell_type": "markdown",
   "metadata": {},
   "source": [
    "10. Declare a function named capitalize_list_items. It takes a list as a parameter and it returns a capitalized list of items"
   ]
  },
  {
   "cell_type": "code",
   "execution_count": null,
   "metadata": {},
   "outputs": [],
   "source": [
    "def capitalize_list_items(list):\n",
    "  cap_list = []\n",
    "  for i in range(len(list)):\n",
    "    cap_list.append(list[i].upper())\n",
    "  return cap_list\n",
    "\n",
    "capitalize_list_items(['orange','mango','guava'])\n"
   ]
  },
  {
   "cell_type": "markdown",
   "metadata": {},
   "source": [
    "11. Declare a function named add_item. It takes a list and an item parameters. It returns a list with the item added at the end.\n"
   ]
  },
  {
   "cell_type": "code",
   "execution_count": null,
   "metadata": {},
   "outputs": [],
   "source": [
    "def add_item(list,item):\n",
    "  list.append(item)\n",
    "  return list\n",
    "print(add_item(['Facebook','Google'],'Apple'))\n"
   ]
  },
  {
   "cell_type": "markdown",
   "metadata": {},
   "source": [
    "12. Declare a function named remove_item. It takes a list and an item parameters. It returns a list with the item removed from it."
   ]
  },
  {
   "cell_type": "code",
   "execution_count": null,
   "metadata": {},
   "outputs": [],
   "source": [
    "def remove_item(list,item):\n",
    "  if item in list:\n",
    "    list.remove(item)\n",
    "  return list\n",
    "print(remove_item(['Facebook','Google'],'Google'))\n"
   ]
  },
  {
   "cell_type": "markdown",
   "metadata": {},
   "source": [
    "13. Declare a function named sum_of_numbers. It takes a number parameter and it adds all the numbers in that range"
   ]
  },
  {
   "cell_type": "code",
   "execution_count": null,
   "metadata": {},
   "outputs": [],
   "source": [
    "def sum_of_numbers(num):\n",
    "  sum = 0\n",
    "  for i in range(num+1):\n",
    "    sum += i\n",
    "  return sum\n",
    "print(f' The sum of numbers upto 5 is {sum_of_numbers(5)}')\n"
   ]
  },
  {
   "cell_type": "code",
   "execution_count": null,
   "metadata": {},
   "outputs": [],
   "source": [
    "def sum_of_numbers_v2(n):\n",
    "    if n  == 0:\n",
    "        return 0\n",
    "    return n + sum_of_numbers_v2(n-1)\n",
    "print(f' The sum of numbers upto 5 is {sum_of_numbers_v2(5)}')\n"
   ]
  },
  {
   "cell_type": "markdown",
   "metadata": {},
   "source": [
    "14. Declare a function named sum_of_odds. It takes a number parameter and it adds all the odd numbers in that range."
   ]
  },
  {
   "cell_type": "code",
   "execution_count": null,
   "metadata": {},
   "outputs": [],
   "source": [
    "def sum_of_odds(num):\n",
    "  sum = 0\n",
    "  for i in range(num+1):\n",
    "    if i % 2 ==1:\n",
    "      sum += i\n",
    "  return sum\n",
    "\n",
    "print(f'The sum of odd numbers upto 7 is {sum_of_odds(7)} ')\n"
   ]
  },
  {
   "cell_type": "code",
   "execution_count": null,
   "metadata": {},
   "outputs": [],
   "source": [
    "def sum_of_odds_v2(n):\n",
    "     return sum(x for x in range(n, 0, -1) if x % 2 == 1)\n",
    "\n",
    "def sum_of_odds_v3(n):\n",
    "    return sum(x for x in range(n, 0, -2))\n",
    "print(f'The sum of odd numbers upto 7 is {sum_of_odds_v2(7)} ')\n",
    "print(f'The sum of odd numbers upto 7 is {sum_of_odds_v3(7)} ')\n",
    "\n"
   ]
  },
  {
   "cell_type": "markdown",
   "metadata": {},
   "source": [
    "15. Declare a function named sum_of_even. It takes a number parameter and it adds all the even numbers in that - range.\n"
   ]
  },
  {
   "cell_type": "code",
   "execution_count": null,
   "metadata": {},
   "outputs": [],
   "source": [
    "def sum_of_evens(num):\n",
    "  sum = 0\n",
    "  for i in range(num+1):\n",
    "    if i % 2 == 0:\n",
    "      sum +=i\n",
    "  return sum\n",
    "print(f'The sum of even numbers upto 10 is {sum_of_evens(10)} ')\n"
   ]
  },
  {
   "cell_type": "code",
   "execution_count": null,
   "metadata": {},
   "outputs": [],
   "source": [
    "def sum_of_evens_v2(n):\n",
    "    return sum(x for x in range(n,0,-1) if x % 2 == 0)\n",
    "\n",
    "print(f'The sum of even numbers upto 10 is {sum_of_evens_v2(10)} ')\n"
   ]
  },
  {
   "cell_type": "markdown",
   "metadata": {},
   "source": [
    "#### Exercises: Level 2"
   ]
  },
  {
   "cell_type": "markdown",
   "metadata": {},
   "source": [
    "1. Declare a function named evens_and_odds . It takes a positive integer as parameter and it counts number of evens and odds in the number."
   ]
  },
  {
   "cell_type": "code",
   "execution_count": null,
   "metadata": {},
   "outputs": [],
   "source": [
    "def evens_and_odds(int):\n",
    "  num_even = 0\n",
    "  num_odd = 0\n",
    "  for i in range(int +1):\n",
    "    if i % 2 == 0:\n",
    "      num_even += 1\n",
    "    else: \n",
    "      num_odd +=1\n",
    "  return f'The number of odd are: {num_odd} \\nThe number of even are: {num_even}'\n",
    "  \n",
    "print(f'For 100, {evens_and_odds(100)}')\n"
   ]
  },
  {
   "cell_type": "code",
   "execution_count": null,
   "metadata": {},
   "outputs": [],
   "source": [
    "def count_evens_and_odds(n):\n",
    "    # floor division to handle both even and odd cases.\n",
    "    num_even = (n + 1) // 2\n",
    "    num_odd = n // 2\n",
    "\n",
    "    # When n is odd, add one more to the count of odds.\n",
    "    if n % 2 == 1:\n",
    "        num_odd += 1\n",
    "\n",
    "    return f'The number of odds are: {num_odd} \\nThe number of evens are: {num_even}'\n",
    "\n",
    "# Testing the function with an input of 100.\n",
    "print(f'For 100, {count_evens_and_odds(100)}')\n"
   ]
  },
  {
   "cell_type": "markdown",
   "metadata": {},
   "source": [
    "2. Call your function factorial, it takes a whole number as a parameter and it return a factorial of the number"
   ]
  },
  {
   "cell_type": "code",
   "execution_count": null,
   "metadata": {},
   "outputs": [],
   "source": [
    "def factorial(x):\n",
    "  fact = 1\n",
    "  for i in range(1,x+1):\n",
    "    fact *= i\n",
    "  return fact\n",
    "\n",
    "print(f'The factorial of 6 is {factorial(6)} ')"
   ]
  },
  {
   "cell_type": "code",
   "execution_count": null,
   "metadata": {},
   "outputs": [],
   "source": [
    "def fact(x):\n",
    "    if x == 0:\n",
    "         return 1\n",
    "     \n",
    "    return x * fact(x - 1)\n",
    "\n",
    "print(f'The factorial of 6 is {fact(6)} ')\n"
   ]
  },
  {
   "cell_type": "markdown",
   "metadata": {},
   "source": [
    "3. Call your function is_empty, it takes a parameter and it checks if it is empty or not"
   ]
  },
  {
   "cell_type": "code",
   "execution_count": null,
   "metadata": {},
   "outputs": [],
   "source": [
    "def is_empty(x):\n",
    "  if len(x) == 0:\n",
    "    state = 'Empty'\n",
    "  else:\n",
    "    state = 'Not empty'\n",
    "  return state\n",
    "print(is_empty([]))\n"
   ]
  },
  {
   "cell_type": "code",
   "execution_count": null,
   "metadata": {},
   "outputs": [],
   "source": [
    "def is_empty_v2(x):\n",
    "    return 'Empty' if not x else 'Not empty'\n",
    "\n",
    "# Testing the function with an empty list.\n",
    "print(is_empty_v2([]))\n",
    "print(is_empty_v2(0))"
   ]
  },
  {
   "cell_type": "markdown",
   "metadata": {},
   "source": [
    "4. Write different functions which take lists. They should calculate_mean, calculate_median, calculate_mode, calculate_range, calculate_variance, calculate_std (standard deviation)."
   ]
  },
  {
   "cell_type": "code",
   "execution_count": null,
   "metadata": {},
   "outputs": [],
   "source": [
    "def calculate_mean(list):\n",
    "  sum = 0\n",
    "  for i in range(len(list)):\n",
    "    sum += list[i]\n",
    "  mean = sum / len(list)\n",
    "  return mean\n",
    "print(f'The mean of [1,2,3,4,5]: {calculate_mean([1,2,3,4,5])}')\n",
    "\n",
    "def calculate_median(list):\n",
    "  list_length = len(list)\n",
    "  list.sort()\n",
    "  if list_length % 2 == 0:\n",
    "    median = (list[list_length//2] + list[list_length//2 - 1])/2\n",
    "  else:\n",
    "    median = list[list_length//2]\n",
    "  return median\n",
    "\n",
    "print(f'The median of [1,3,4,5,2]: {calculate_median([1,3,4,5,2])}')\n",
    "print(f'The median of [1,4,3,2]: {calculate_median([1,4,3,2])}')\n",
    "\n",
    "def calculate_mode(list):\n",
    "  dic = {}\n",
    "  for item in list:\n",
    "      dic[item] = dic.get(item,0) + 1\n",
    "  return [i for  i,j in dic.items() if j == max(dic.values()) ]\n",
    "    \n",
    "print(f'The mode of [1,1,1,3,4,5,6,6,6,8,8,1,1]: {calculate_mode([1,1,1,3,4,5,6,6,6,8,8,1,1])}')\n",
    "\n",
    "def calculate_range(list):\n",
    "  list.sort()\n",
    "  range = list[len(list)-1] - list[0]\n",
    "  return range\n",
    "print(f'The range of [10,90,5,3,6,7]: {calculate_range([10,90,5,3,6,7])}')\n",
    "\n",
    "def calculate_variance(list):\n",
    "  sum = 0\n",
    "  sum_of_diffs = 0\n",
    "  for i in range(len(list)):\n",
    "    sum += list[i]\n",
    "  mean = sum / len(list)\n",
    "  for i in range(len(list)):\n",
    "    sum_of_diffs +=  (list[i] - mean ) ** 2\n",
    "  variance = sum_of_diffs/(len(list) - 1)\n",
    "  return variance\n",
    "\n",
    "print(f'The variance of [1,2,4,5,6,7,8]: {calculate_variance([1,2,4,5,6,7,8])}')\n",
    "\n",
    "def calculate_std(list):\n",
    "  sum = 0\n",
    "  sum_of_diffs = 0\n",
    "  for i in range(len(list)):\n",
    "    sum += list[i]\n",
    "  mean = sum / len(list)\n",
    "  for i in range(len(list)):\n",
    "    sum_of_diffs +=  ((list[i] - mean ) ** 2)\n",
    "  sd = (sum_of_diffs/(len(list)-1)) ** (1/2)\n",
    "  return sd\n",
    "\n",
    "print(f'The sd of [1,2,4,5,6,7,8] : {calculate_std([1,2,4,5,6,7,8])}')"
   ]
  },
  {
   "cell_type": "markdown",
   "metadata": {},
   "source": [
    "#### Exercises Level 3"
   ]
  },
  {
   "cell_type": "markdown",
   "metadata": {},
   "source": [
    "1. Write a function called is_prime, which checks if a number is prime."
   ]
  },
  {
   "cell_type": "code",
   "execution_count": null,
   "metadata": {},
   "outputs": [],
   "source": [
    "def is_prime(x):\n",
    "  div = []\n",
    "  for i in range(2,x):\n",
    "     if  x % i == 0:\n",
    "       div.append(i)\n",
    "  if len(div) == 0:\n",
    "    prime = 'Prime'\n",
    "  else:\n",
    "    prime = 'Not Prime'\n",
    "  return prime\n",
    "\n",
    "print(f'24: {is_prime(24)}')\n"
   ]
  },
  {
   "cell_type": "markdown",
   "metadata": {},
   "source": [
    "2. Write a functions which checks if all items are unique in the list."
   ]
  },
  {
   "cell_type": "code",
   "execution_count": null,
   "metadata": {},
   "outputs": [],
   "source": [
    "def check_unique(items):\n",
    "    return 'All items are unique' if len(items) == len(set(items)) else 'Some items are duplicated'\n",
    "\n",
    "# Testing the function with a list containing unique items.\n",
    "print(f'Are items in [1,2,3,4,5] unique? : {check_unique([1,2,3,4,5])}')\n"
   ]
  },
  {
   "cell_type": "markdown",
   "metadata": {},
   "source": [
    "3. Write a function which checks if all the items of the list are of the same data type"
   ]
  },
  {
   "cell_type": "code",
   "execution_count": null,
   "metadata": {},
   "outputs": [],
   "source": [
    "def same_data_type(list):\n",
    "  types = []\n",
    "  for i in range(len(list)):\n",
    "    types.append(type(list[i]))\n",
    "  types_set = set(types)\n",
    "  if len(types_set) == 1:\n",
    "    data = \"All items in the list are of the same data type\"\n",
    "  else:\n",
    "    data = \"Items in the list are not of the same data type\"\n",
    "  return data\n",
    "print(same_data_type(['friends','foes']))\n"
   ]
  },
  {
   "cell_type": "code",
   "execution_count": null,
   "metadata": {},
   "outputs": [],
   "source": [
    "def same_data_type_v2(items):\n",
    "    if not items:  # Handle empty list case\n",
    "        return \"The list is empty\"\n",
    "    first_type = type(items[0])\n",
    "    return \"All items in the list are of the same data type\" if all(type(item) == first_type for item in items) else \"Items in the list are not of the same data type\"\n",
    "\n",
    "# Testing the function with a list of strings.\n",
    "print(same_data_type_v2(['friends', 'foes']))\n"
   ]
  },
  {
   "cell_type": "markdown",
   "metadata": {},
   "source": [
    "4. Write a function which check if provided variable is a valid python variable"
   ]
  },
  {
   "cell_type": "markdown",
   "metadata": {},
   "source": [
    "the conditions are:\n",
    "\n",
    "\n",
    "\n",
    "*   A variable name cannot start with a number\n",
    "\n",
    "*   A variable name must start with a letter or the underscore character and can only contain alpha-numeric characters and underscores (A-z, 0-9, and _ )\n"
   ]
  },
  {
   "cell_type": "code",
   "execution_count": null,
   "metadata": {},
   "outputs": [],
   "source": [
    "def is_python_variable(name):\n",
    "    if name[0] not in ['0','1','2','3','4','5','6','7','8','9'] and ' ' not in name:\n",
    "       result = 'A valid variable name'\n",
    "    else:\n",
    "      result = 'Not a valid variable name'\n",
    "    return result\n",
    "\n",
    "is_python_variable('c_m ')\n"
   ]
  },
  {
   "cell_type": "code",
   "execution_count": null,
   "metadata": {},
   "outputs": [],
   "source": [
    "def is_python_variable_v2(name):\n",
    "    if name.isidentifier() and not name[0].isdigit():\n",
    "        return 'A valid variable name'\n",
    "    else:\n",
    "        return 'Not a valid variable name'\n",
    "\n",
    "# Testing the function with a sample variable name.\n",
    "print(is_python_variable_v2('c_m '))\n"
   ]
  },
  {
   "cell_type": "markdown",
   "metadata": {},
   "source": [
    "5. Go to the data folder and access the countries-data.py file.\n",
    "Create a function called the most_spoken_languages in the world. It should return 10 or 20 most spoken languages in the world in descending order\n",
    "Create a function called the most_populated_countries. It should return 10 or 20 most populated countries in descending order."
   ]
  },
  {
   "cell_type": "code",
   "execution_count": null,
   "metadata": {},
   "outputs": [],
   "source": [
    "# first importing the countries_data list from the country_data.py file\n",
    "from country_data import countries_data\n",
    "def most_spoken_languages():\n",
    "\n",
    "    # looping to get dict of languages\n",
    "    languages = []\n",
    "    for i in range(len(countries_data)):\n",
    "      languages.extend(countries_data[i]['languages'])\n",
    "\n",
    "    lang = {}\n",
    "    for language in languages:\n",
    "        lang[language] = lang.get(language,0) + 1\n",
    "\n",
    "# sorting the list of the tuples to get the most spoken languages\n",
    "    sorted_lang = sorted(lang.items(), key= lambda x:x[1],reverse=True)\n",
    "    sorted_lang # contains the languages arranged based on values\n",
    "    # for the top ten, another loop\n",
    "    top_ten = []\n",
    "    for i in range(10):\n",
    "        top_ten.append(sorted_lang[i])\n",
    "    return top_ten\n",
    "\n",
    "print(f'most spoken languages:  {most_spoken_languages()}')\n",
    "\n",
    "\n",
    "\n",
    "\n",
    "def most_populated_countries():\n",
    "    population = {}\n",
    "    for i in range(len(countries_data)):\n",
    "        keys = countries_data[i]['name']\n",
    "        values = countries_data[i]['population']\n",
    "        population[keys] = values\n",
    "# sorting the list of the tuples to get the most spoken languages\n",
    "    sorted_pop = sorted(population.items(), key= lambda x:x[1],reverse=True)\n",
    " # contains the languages arranged based on values\n",
    "# for the top ten, another loop\n",
    "    most_pop = []\n",
    "    for i in range(10):\n",
    "        most_pop.append(sorted_pop[i][0])\n",
    "\n",
    "    return most_pop\n",
    "\n",
    "print(f'most populated countries: {most_populated_countries()}')"
   ]
  },
  {
   "cell_type": "code",
   "execution_count": null,
   "metadata": {},
   "outputs": [],
   "source": [
    "def most_spoken_languages_v2():\n",
    "    # Creating a dictionary of languages and their counts\n",
    "    lang = {}\n",
    "    for country in countries_data:\n",
    "        for language in country['languages']:\n",
    "            lang[language] = lang.get(language, 0) + 1\n",
    "\n",
    "    # Sorting languages by count and extracting the top ten\n",
    "    sorted_lang = sorted(lang.items(), key=lambda x: x[1], reverse=True)[:10]\n",
    "    return sorted_lang\n",
    "\n",
    "print(f'Most spoken languages: {most_spoken_languages_v2()}')\n",
    "\n",
    "def most_populated_countries_v2():\n",
    "    # Creating a dictionary of countries and their populations\n",
    "    population = {country['name']: country['population'] for country in countries_data}\n",
    "\n",
    "    # Sorting countries by population and extracting the top ten names\n",
    "    sorted_pop = sorted(population.items(), key=lambda x: x[1], reverse=True)[:10]\n",
    "    return [country[0] for country in sorted_pop]\n",
    "\n",
    "print(f'Most populated countries: {most_populated_countries_v2()}')\n"
   ]
  }
 ],
 "metadata": {
  "kernelspec": {
   "display_name": "base",
   "language": "python",
   "name": "python3"
  },
  "language_info": {
   "codemirror_mode": {
    "name": "ipython",
    "version": 3
   },
   "file_extension": ".py",
   "mimetype": "text/x-python",
   "name": "python",
   "nbconvert_exporter": "python",
   "pygments_lexer": "ipython3",
   "version": "3.12.3"
  }
 },
 "nbformat": 4,
 "nbformat_minor": 2
}
