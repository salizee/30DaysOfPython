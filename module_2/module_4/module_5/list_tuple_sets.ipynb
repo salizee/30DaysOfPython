{
 "cells": [
  {
   "cell_type": "markdown",
   "metadata": {},
   "source": [
    "# Exercises: Level 1"
   ]
  },
  {
   "cell_type": "markdown",
   "metadata": {},
   "source": [
    "# Declare an empty list"
   ]
  },
  {
   "cell_type": "code",
   "execution_count": null,
   "metadata": {},
   "outputs": [],
   "source": [
    "my_list = []"
   ]
  },
  {
   "cell_type": "markdown",
   "metadata": {},
   "source": [
    "# Declare a list with more than 5 items"
   ]
  },
  {
   "cell_type": "code",
   "execution_count": null,
   "metadata": {},
   "outputs": [],
   "source": [
    "my_list = [1, 2, 3, 4, 5, 6]"
   ]
  },
  {
   "cell_type": "markdown",
   "metadata": {},
   "source": [
    "# Find the length of your list"
   ]
  },
  {
   "cell_type": "markdown",
   "metadata": {},
   "source": [
    "length_of_list = len(my_list)\n",
    "print(length_of_list)"
   ]
  },
  {
   "cell_type": "markdown",
   "metadata": {},
   "source": [
    "# Get the first item, the middle item and the last item of the list"
   ]
  },
  {
   "cell_type": "code",
   "execution_count": null,
   "metadata": {},
   "outputs": [],
   "source": [
    "first_item = my_list[0]  # First item (index 0)\n",
    "middle_item = my_list[len(my_list) // 2]  # Middle item (index of the middle element)\n",
    "last_item = my_list[-1]  # Last item (index -1)\n",
    "\n",
    "print(\"First item:\", first_item)\n",
    "print(\"Middle item:\", middle_item)\n",
    "print(\"Last item:\", last_item)"
   ]
  },
  {
   "cell_type": "markdown",
   "metadata": {},
   "source": [
    "# Declare a list called mixed_data_types, put your(name, age, height, marital status, address)\n",
    "\n"
   ]
  },
  {
   "cell_type": "code",
   "execution_count": null,
   "metadata": {},
   "outputs": [],
   "source": [
    "mixed_data_types = [\"Sani Ado\", 40, 8.9, \"Married\", \"153 Sardauna Crescent, Kano State\"]"
   ]
  },
  {
   "cell_type": "markdown",
   "metadata": {},
   "source": [
    "# Print the list using print()"
   ]
  },
  {
   "cell_type": "code",
   "execution_count": null,
   "metadata": {},
   "outputs": [],
   "source": [
    "mixed_data_types = [\"Sani Ado\", 40, 8.9, \"Married\", \"153 Sardauna Crescent, Kano State\"]\n",
    "\n",
    "print(mixed_data_types)"
   ]
  },
  {
   "cell_type": "markdown",
   "metadata": {},
   "source": [
    "# Print the number of companies in the list"
   ]
  },
  {
   "cell_type": "code",
   "execution_count": null,
   "metadata": {},
   "outputs": [],
   "source": [
    "companies = [\"Google\", \"Microsoft\", \"Apple\", \"Amazon\", \"Tesla\"]\n",
    "\n",
    "# Print the number of companies in the list\n",
    "print(\"Number of companies:\", len(companies))"
   ]
  },
  {
   "cell_type": "markdown",
   "metadata": {},
   "source": [
    "# Print the first, middle and last company"
   ]
  },
  {
   "cell_type": "code",
   "execution_count": null,
   "metadata": {},
   "outputs": [],
   "source": [
    "companies = [\"Google\", \"Microsoft\", \"Apple\", \"Amazon\", \"Tesla\"]\n",
    "\n",
    "# First company\n",
    "first_company = companies[0]\n",
    "\n",
    "# Middle company (assuming an odd number of elements)\n",
    "middle_company = companies[len(companies) // 2]\n",
    "\n",
    "# Last company\n",
    "last_company = companies[-1]\n",
    "\n",
    "# Print the results\n",
    "print(\"First company:\", first_company)\n",
    "print(\"Middle company:\", middle_company)\n",
    "print(\"Last company:\", last_company)"
   ]
  },
  {
   "cell_type": "markdown",
   "metadata": {},
   "source": [
    "# Print the list after modifying one of the companies"
   ]
  },
  {
   "cell_type": "code",
   "execution_count": null,
   "metadata": {},
   "outputs": [],
   "source": [
    "companies = [\"Google\", \"Microsoft\", \"Apple\", \"Amazon\", \"Tesla\"]\n",
    "\n",
    "# Modify the second company (index 1)\n",
    "companies[1] = \"Meta\"  # Change \"Microsoft\" to \"Meta\"\n",
    "\n",
    "# Print the modified list\n",
    "print(companies)"
   ]
  },
  {
   "cell_type": "markdown",
   "metadata": {},
   "source": [
    "# Add an IT company to it_companies"
   ]
  },
  {
   "cell_type": "code",
   "execution_count": null,
   "metadata": {},
   "outputs": [],
   "source": [
    "it_companies = [\"Google\", \"Microsoft\", \"Apple\", \"Amazon\", \"Tesla\"]\n",
    "\n",
    "# Add a new IT company (e.g., \"IBM\")\n",
    "it_companies.append(\"IBM\")\n",
    "\n",
    "# Print the updated list\n",
    "print(it_companies)"
   ]
  },
  {
   "cell_type": "markdown",
   "metadata": {},
   "source": [
    "# Insert an IT company in the middle of the companies list"
   ]
  },
  {
   "cell_type": "code",
   "execution_count": null,
   "metadata": {},
   "outputs": [],
   "source": [
    "companies = [\"Google\", \"Microsoft\", \"Apple\", \"Amazon\", \"Tesla\"]\n",
    "\n",
    "# Insert a new IT company (e.g., \"Intel\") in the middle of the list\n",
    "middle_index = len(companies) // 2\n",
    "companies.insert(middle_index, \"Intel\")\n",
    "\n",
    "# Print the updated list\n",
    "print(companies)"
   ]
  },
  {
   "cell_type": "markdown",
   "metadata": {},
   "source": [
    "# Change one of the it_companies names to uppercase (IBM excluded!)"
   ]
  },
  {
   "cell_type": "code",
   "execution_count": null,
   "metadata": {},
   "outputs": [],
   "source": [
    "it_companies = [\"Google\", \"Microsoft\", \"Apple\", \"Amazon\", \"Tesla\", \"IBM\"]\n",
    "\n",
    "# Change the name of \"Apple\" to uppercase (excluding \"IBM\")\n",
    "for i in range(len(it_companies)):\n",
    "    if it_companies[i] != \"IBM\":\n",
    "        it_companies[i] = it_companies[i].upper()\n",
    "        break  # Exit the loop after modifying one company\n",
    "\n",
    "# Print the updated list\n",
    "print(it_companies)"
   ]
  }
 ],
 "metadata": {
  "kernelspec": {
   "display_name": "base",
   "language": "python",
   "name": "python3"
  },
  "language_info": {
   "codemirror_mode": {
    "name": "ipython",
    "version": 3
   },
   "file_extension": ".py",
   "mimetype": "text/x-python",
   "name": "python",
   "nbconvert_exporter": "python",
   "pygments_lexer": "ipython3",
   "version": "3.12.3"
  }
 },
 "nbformat": 4,
 "nbformat_minor": 2
}
