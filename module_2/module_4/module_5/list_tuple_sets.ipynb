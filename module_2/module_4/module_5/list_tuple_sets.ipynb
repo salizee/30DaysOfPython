{
 "cells": [
  {
   "cell_type": "markdown",
   "metadata": {},
   "source": [
    "# Exercises: Level 1"
   ]
  },
  {
   "cell_type": "markdown",
   "metadata": {},
   "source": [
    "# Declare an empty list"
   ]
  },
  {
   "cell_type": "code",
   "execution_count": null,
   "metadata": {},
   "outputs": [],
   "source": [
    "my_list = []"
   ]
  },
  {
   "cell_type": "markdown",
   "metadata": {},
   "source": [
    "# Declare a list with more than 5 items"
   ]
  },
  {
   "cell_type": "code",
   "execution_count": null,
   "metadata": {},
   "outputs": [],
   "source": [
    "my_list = [1, 2, 3, 4, 5, 6]"
   ]
  },
  {
   "cell_type": "markdown",
   "metadata": {},
   "source": [
    "# Find the length of your list"
   ]
  },
  {
   "cell_type": "markdown",
   "metadata": {},
   "source": [
    "length_of_list = len(my_list)\n",
    "print(length_of_list)"
   ]
  },
  {
   "cell_type": "markdown",
   "metadata": {},
   "source": [
    "# Get the first item, the middle item and the last item of the list"
   ]
  },
  {
   "cell_type": "code",
   "execution_count": null,
   "metadata": {},
   "outputs": [],
   "source": [
    "first_item = my_list[0]  # First item (index 0)\n",
    "middle_item = my_list[len(my_list) // 2]  # Middle item (index of the middle element)\n",
    "last_item = my_list[-1]  # Last item (index -1)\n",
    "\n",
    "print(\"First item:\", first_item)\n",
    "print(\"Middle item:\", middle_item)\n",
    "print(\"Last item:\", last_item)"
   ]
  },
  {
   "cell_type": "markdown",
   "metadata": {},
   "source": [
    "# Declare a list called mixed_data_types, put your(name, age, height, marital status, address)\n",
    "\n"
   ]
  },
  {
   "cell_type": "code",
   "execution_count": null,
   "metadata": {},
   "outputs": [],
   "source": [
    "mixed_data_types = [\"Sani Ado\", 40, 8.9, \"Married\", \"153 Sardauna Crescent, Kano State\"]"
   ]
  },
  {
   "cell_type": "markdown",
   "metadata": {},
   "source": [
    "# Print the list using print()"
   ]
  },
  {
   "cell_type": "code",
   "execution_count": null,
   "metadata": {},
   "outputs": [],
   "source": [
    "mixed_data_types = [\"Sani Ado\", 40, 8.9, \"Married\", \"153 Sardauna Crescent, Kano State\"]\n",
    "\n",
    "print(mixed_data_types)"
   ]
  },
  {
   "cell_type": "markdown",
   "metadata": {},
   "source": [
    "# Print the number of companies in the list"
   ]
  },
  {
   "cell_type": "code",
   "execution_count": null,
   "metadata": {},
   "outputs": [],
   "source": [
    "companies = [\"Google\", \"Microsoft\", \"Apple\", \"Amazon\", \"Tesla\"]\n",
    "\n",
    "# Print the number of companies in the list\n",
    "print(\"Number of companies:\", len(companies))"
   ]
  },
  {
   "cell_type": "markdown",
   "metadata": {},
   "source": [
    "# Print the first, middle and last company"
   ]
  },
  {
   "cell_type": "code",
   "execution_count": null,
   "metadata": {},
   "outputs": [],
   "source": [
    "companies = [\"Google\", \"Microsoft\", \"Apple\", \"Amazon\", \"Tesla\"]\n",
    "\n",
    "# First company\n",
    "first_company = companies[0]\n",
    "\n",
    "# Middle company (assuming an odd number of elements)\n",
    "middle_company = companies[len(companies) // 2]\n",
    "\n",
    "# Last company\n",
    "last_company = companies[-1]\n",
    "\n",
    "# Print the results\n",
    "print(\"First company:\", first_company)\n",
    "print(\"Middle company:\", middle_company)\n",
    "print(\"Last company:\", last_company)"
   ]
  },
  {
   "cell_type": "markdown",
   "metadata": {},
   "source": [
    "# Print the list after modifying one of the companies"
   ]
  },
  {
   "cell_type": "code",
   "execution_count": null,
   "metadata": {},
   "outputs": [],
   "source": [
    "companies = [\"Google\", \"Microsoft\", \"Apple\", \"Amazon\", \"Tesla\"]\n",
    "\n",
    "# Modify the second company (index 1)\n",
    "companies[1] = \"Meta\"  # Change \"Microsoft\" to \"Meta\"\n",
    "\n",
    "# Print the modified list\n",
    "print(companies)"
   ]
  },
  {
   "cell_type": "markdown",
   "metadata": {},
   "source": [
    "# Add an IT company to it_companies"
   ]
  },
  {
   "cell_type": "code",
   "execution_count": null,
   "metadata": {},
   "outputs": [],
   "source": [
    "it_companies = [\"Google\", \"Microsoft\", \"Apple\", \"Amazon\", \"Tesla\"]\n",
    "\n",
    "# Add a new IT company (e.g., \"IBM\")\n",
    "it_companies.append(\"IBM\")\n",
    "\n",
    "# Print the updated list\n",
    "print(it_companies)"
   ]
  },
  {
   "cell_type": "markdown",
   "metadata": {},
   "source": [
    "# Insert an IT company in the middle of the companies list"
   ]
  },
  {
   "cell_type": "code",
   "execution_count": null,
   "metadata": {},
   "outputs": [],
   "source": [
    "companies = [\"Google\", \"Microsoft\", \"Apple\", \"Amazon\", \"Tesla\"]\n",
    "\n",
    "# Insert a new IT company (e.g., \"Intel\") in the middle of the list\n",
    "middle_index = len(companies) // 2\n",
    "companies.insert(middle_index, \"Intel\")\n",
    "\n",
    "# Print the updated list\n",
    "print(companies)"
   ]
  },
  {
   "cell_type": "markdown",
   "metadata": {},
   "source": [
    "# Change one of the it_companies names to uppercase (IBM excluded!)"
   ]
  },
  {
   "cell_type": "code",
   "execution_count": null,
   "metadata": {},
   "outputs": [],
   "source": [
    "it_companies = [\"Google\", \"Microsoft\", \"Apple\", \"Amazon\", \"Tesla\", \"IBM\"]\n",
    "\n",
    "# Change the name of \"Apple\" to uppercase (excluding \"IBM\")\n",
    "for i in range(len(it_companies)):\n",
    "    if it_companies[i] != \"IBM\":\n",
    "        it_companies[i] = it_companies[i].upper()\n",
    "        break  # Exit the loop after modifying one company\n",
    "\n",
    "# Print the updated list\n",
    "print(it_companies)"
   ]
  },
  {
   "cell_type": "markdown",
   "metadata": {},
   "source": [
    "# Join the it_companies with a string '#;  '"
   ]
  },
  {
   "cell_type": "code",
   "execution_count": null,
   "metadata": {},
   "outputs": [],
   "source": [
    "it_companies = [\"Google\", \"Microsoft\", \"Apple\", \"Amazon\", \"Tesla\", \"IBM\"]\n",
    "\n",
    "# Join the companies with \"#;  \" as the separator\n",
    "joined_companies = \"#;  \".join(it_companies)\n",
    "\n",
    "# Print the result\n",
    "print(joined_companies)"
   ]
  },
  {
   "cell_type": "markdown",
   "metadata": {},
   "source": [
    "# Check if a certain company exists in the it_companies list."
   ]
  },
  {
   "cell_type": "code",
   "execution_count": null,
   "metadata": {},
   "outputs": [],
   "source": [
    "it_companies = [\"Google\", \"Microsoft\", \"Apple\", \"Amazon\", \"Tesla\", \"IBM\"]\n",
    "\n",
    "# Company to check\n",
    "company_to_check = \"Microsoft\"\n",
    "\n",
    "# Check if the company exists in the list\n",
    "if company_to_check in it_companies:\n",
    "    print(f\"{company_to_check} exists in the list.\")\n",
    "else:\n",
    "    print(f\"{company_to_check} does not exist in the list.\")\n"
   ]
  },
  {
   "cell_type": "markdown",
   "metadata": {},
   "source": [
    "# Sort the list using sort() method"
   ]
  },
  {
   "cell_type": "code",
   "execution_count": null,
   "metadata": {},
   "outputs": [],
   "source": [
    "it_companies = [\"Google\", \"Microsoft\", \"Apple\", \"Amazon\", \"Tesla\", \"IBM\"]\n",
    "\n",
    "# Sort the list alphabetically\n",
    "it_companies.sort()\n",
    "\n",
    "# Print the sorted list\n",
    "print(it_companies)"
   ]
  },
  {
   "cell_type": "markdown",
   "metadata": {},
   "source": [
    "# Reverse the list in descending order using reverse() method"
   ]
  },
  {
   "cell_type": "code",
   "execution_count": null,
   "metadata": {},
   "outputs": [],
   "source": [
    "it_companies = [\"Google\", \"Microsoft\", \"Apple\", \"Amazon\", \"Tesla\", \"IBM\"]\n",
    "\n",
    "# Sort the list alphabetically first\n",
    "it_companies.sort()\n",
    "\n",
    "# Reverse the list in place to get descending order\n",
    "it_companies.reverse()\n",
    "\n",
    "# Print the reversed list\n",
    "print(it_companies)"
   ]
  },
  {
   "cell_type": "markdown",
   "metadata": {},
   "source": [
    "# Slice out the first 3 companies from the list"
   ]
  },
  {
   "cell_type": "code",
   "execution_count": null,
   "metadata": {},
   "outputs": [],
   "source": [
    "it_companies = [\"Google\", \"Microsoft\", \"Apple\", \"Amazon\", \"Tesla\", \"IBM\"]\n",
    "\n",
    "# Slice the first 3 companies\n",
    "first_three_companies = it_companies[:3]\n",
    "\n",
    "# Print the result\n",
    "print(first_three_companies)"
   ]
  },
  {
   "cell_type": "markdown",
   "metadata": {},
   "source": [
    "# Slice out the last 3 companies from the list"
   ]
  },
  {
   "cell_type": "code",
   "execution_count": null,
   "metadata": {},
   "outputs": [],
   "source": [
    "it_companies = [\"Google\", \"Microsoft\", \"Apple\", \"Amazon\", \"Tesla\", \"IBM\"]\n",
    "\n",
    "# Slice the last 3 companies\n",
    "last_three_companies = it_companies[-3:]\n",
    "\n",
    "# Print the result\n",
    "print(last_three_companies)"
   ]
  },
  {
   "cell_type": "markdown",
   "metadata": {},
   "source": [
    "# Slice out the middle IT company or companies from the list"
   ]
  },
  {
   "cell_type": "code",
   "execution_count": null,
   "metadata": {},
   "outputs": [],
   "source": [
    "it_companies = [\"Google\", \"Microsoft\", \"Apple\", \"Amazon\", \"Tesla\", \"IBM\"]\n",
    "\n",
    "# Find the middle index (for odd or even number of companies)\n",
    "middle_index = len(it_companies) // 2\n",
    "\n",
    "# Check if the number of companies is odd or even\n",
    "if len(it_companies) % 2 != 0:\n",
    "    # If odd, slice out the single middle company\n",
    "    middle_companies = it_companies[middle_index:middle_index + 1]\n",
    "else:\n",
    "    # If even, slice out the two middle companies\n",
    "    middle_companies = it_companies[middle_index - 1:middle_index + 1]\n",
    "\n",
    "# Print the result\n",
    "print(middle_companies)"
   ]
  },
  {
   "cell_type": "markdown",
   "metadata": {},
   "source": [
    "# Remove the first IT company from the list"
   ]
  },
  {
   "cell_type": "code",
   "execution_count": null,
   "metadata": {},
   "outputs": [],
   "source": [
    "it_companies = [\"Google\", \"Microsoft\", \"Apple\", \"Amazon\", \"Tesla\", \"IBM\"]\n",
    "\n",
    "# Remove the first IT company using pop\n",
    "it_companies.pop(0)\n",
    "\n",
    "# Print the updated list\n",
    "print(it_companies)"
   ]
  },
  {
   "cell_type": "code",
   "execution_count": null,
   "metadata": {},
   "outputs": [],
   "source": [
    "it_companies = [\"Google\", \"Microsoft\", \"Apple\", \"Amazon\", \"Tesla\", \"IBM\"]\n",
    "\n",
    "# Remove the first IT company using del\n",
    "del it_companies[0]\n",
    "\n",
    "# Print the updated list\n",
    "print(it_companies)"
   ]
  },
  {
   "cell_type": "markdown",
   "metadata": {},
   "source": [
    "# Remove the middle IT company or companies from the list"
   ]
  },
  {
   "cell_type": "code",
   "execution_count": null,
   "metadata": {},
   "outputs": [],
   "source": [
    "it_companies = [\"Google\", \"Microsoft\", \"Apple\", \"Amazon\", \"Tesla\", \"IBM\"]\n",
    "\n",
    "# Find the middle index (for odd or even number of companies)\n",
    "middle_index = len(it_companies) // 2\n",
    "\n",
    "# Check if the number of companies is odd or even\n",
    "if len(it_companies) % 2 != 0:\n",
    "    # If odd, remove the single middle company\n",
    "    removed_company = it_companies.pop(middle_index)\n",
    "else:\n",
    "    # If even, remove the two middle companies\n",
    "    removed_companies = it_companies[middle_index - 1:middle_index + 1]\n",
    "    del it_companies[middle_index - 1:middle_index + 1]\n",
    "\n",
    "# Print the updated list\n",
    "print(it_companies)"
   ]
  },
  {
   "cell_type": "markdown",
   "metadata": {},
   "source": [
    "# Remove the last IT company from the list"
   ]
  },
  {
   "cell_type": "code",
   "execution_count": null,
   "metadata": {},
   "outputs": [],
   "source": [
    "it_companies = [\"Google\", \"Microsoft\", \"Apple\", \"Amazon\", \"Tesla\", \"IBM\"]\n",
    "\n",
    "# Remove the last IT company using pop\n",
    "it_companies.pop(-1)\n",
    "\n",
    "# Print the updated list\n",
    "print(it_companies)"
   ]
  },
  {
   "cell_type": "code",
   "execution_count": null,
   "metadata": {},
   "outputs": [],
   "source": [
    "it_companies = [\"Google\", \"Microsoft\", \"Apple\", \"Amazon\", \"Tesla\", \"IBM\"]\n",
    "\n",
    "# Remove the last IT company using del\n",
    "del it_companies[-1]\n",
    "\n",
    "# Print the updated list\n",
    "print(it_companies)"
   ]
  },
  {
   "cell_type": "markdown",
   "metadata": {},
   "source": [
    "# Remove all IT companies from the list"
   ]
  },
  {
   "cell_type": "code",
   "execution_count": null,
   "metadata": {},
   "outputs": [],
   "source": [
    "#using clear method\n",
    "it_companies = [\"Google\", \"Microsoft\", \"Apple\", \"Amazon\", \"Tesla\", \"IBM\"]\n",
    "\n",
    "# Clear the entire list\n",
    "it_companies.clear()\n",
    "\n",
    "# Print the updated list\n",
    "print(it_companies)"
   ]
  },
  {
   "cell_type": "code",
   "execution_count": null,
   "metadata": {},
   "outputs": [],
   "source": [
    "#using reassignment\n",
    "it_companies = [\"Google\", \"Microsoft\", \"Apple\", \"Amazon\", \"Tesla\", \"IBM\"]\n",
    "\n",
    "# Reassign to an empty list\n",
    "it_companies = []\n",
    "\n",
    "# Print the updated list\n",
    "print(it_companies)"
   ]
  },
  {
   "cell_type": "markdown",
   "metadata": {},
   "source": [
    "# Destroy the IT companies list"
   ]
  },
  {
   "cell_type": "code",
   "execution_count": null,
   "metadata": {},
   "outputs": [],
   "source": [
    "it_companies = [\"Google\", \"Microsoft\", \"Apple\", \"Amazon\", \"Tesla\", \"IBM\"]\n",
    "\n",
    "# Destroy the IT companies list\n",
    "del it_companies\n",
    "\n",
    "# Try to print the list (this will raise an error)\n",
    "try:\n",
    "    print(it_companies)\n",
    "except NameError:\n",
    "    print(\"The list has been destroyed and is no longer accessible.\")"
   ]
  },
  {
   "cell_type": "markdown",
   "metadata": {},
   "source": [
    "# Join the following lists:"
   ]
  },
  {
   "cell_type": "code",
   "execution_count": null,
   "metadata": {},
   "outputs": [],
   "source": [
    "front_end = ['HTML', 'CSS', 'JS', 'React', 'Redux']\n",
    "back_end = ['Node', 'Express', 'MongoDB']\n",
    "\n",
    "# Join the lists using the + operator\n",
    "full_stack = front_end + back_end\n",
    "\n",
    "# Print the joined list\n",
    "print(full_stack)"
   ]
  },
  {
   "cell_type": "code",
   "execution_count": null,
   "metadata": {},
   "outputs": [],
   "source": [
    "#using extend() method\n",
    "front_end = ['HTML', 'CSS', 'JS', 'React', 'Redux']\n",
    "back_end = ['Node', 'Express', 'MongoDB']\n",
    "\n",
    "# Create a copy of front_end and extend it with back_end\n",
    "full_stack = front_end.copy()\n",
    "full_stack.extend(back_end)\n",
    "\n",
    "# Print the joined list\n",
    "print(full_stack)"
   ]
  },
  {
   "cell_type": "markdown",
   "metadata": {},
   "source": [
    "# Exercises level 2"
   ]
  },
  {
   "cell_type": "markdown",
   "metadata": {},
   "source": [
    "# The following is a list of 10 students ages:\n",
    "# ages = [19, 22, 19, 24, 20, 25, 26, 24, 25, 24]"
   ]
  },
  {
   "cell_type": "markdown",
   "metadata": {},
   "source": [
    "# Sort the list and find the min and max age"
   ]
  },
  {
   "cell_type": "code",
   "execution_count": null,
   "metadata": {},
   "outputs": [],
   "source": [
    "ages = [19, 22, 19, 24, 20, 25, 26, 24, 25, 24]\n",
    "\n",
    "# Sort the list of ages\n",
    "ages.sort()\n",
    "\n",
    "# Find the minimum and maximum ages\n",
    "min_age = min(ages)\n",
    "max_age = max(ages)\n",
    "\n",
    "# Print the sorted list, min age, and max age\n",
    "print(\"Sorted ages:\", ages)\n",
    "print(\"Minimum age:\", min_age)\n",
    "print(\"Maximum age:\", max_age)"
   ]
  },
  {
   "cell_type": "markdown",
   "metadata": {},
   "source": [
    "# Add the min age and the max age again to the list"
   ]
  },
  {
   "cell_type": "code",
   "execution_count": null,
   "metadata": {},
   "outputs": [],
   "source": [
    "ages = [19, 22, 19, 24, 20, 25, 26, 24, 25, 24]\n",
    "\n",
    "# Sort the list of ages\n",
    "ages.sort()\n",
    "\n",
    "# Find the minimum and maximum ages\n",
    "min_age = min(ages)\n",
    "max_age = max(ages)\n",
    "\n",
    "# Add the min age and max age to the list again\n",
    "ages.append(min_age)\n",
    "ages.append(max_age)\n",
    "\n",
    "# Print the updated list\n",
    "print(\"Updated list of ages:\", ages)"
   ]
  },
  {
   "cell_type": "markdown",
   "metadata": {},
   "source": [
    "# Find the median age (one middle item or two middle items divided by two)"
   ]
  },
  {
   "cell_type": "code",
   "execution_count": null,
   "metadata": {},
   "outputs": [],
   "source": [
    "ages = [19, 22, 19, 24, 20, 25, 26, 24, 25, 24]\n",
    "\n",
    "# Sort the list of ages\n",
    "ages.sort()\n",
    "\n",
    "# Find the length of the list\n",
    "n = len(ages)\n",
    "\n",
    "# Calculate the median\n",
    "if n % 2 == 1:\n",
    "    # Odd length: middle element\n",
    "    median = ages[n // 2]\n",
    "else:\n",
    "    # Even length: average of the two middle elements\n",
    "    median = (ages[n // 2 - 1] + ages[n // 2]) / 2\n",
    "\n",
    "# Print the median\n",
    "print(\"Median age:\", median)"
   ]
  },
  {
   "cell_type": "markdown",
   "metadata": {},
   "source": [
    "# Find the average age (sum of all items divided by their number )"
   ]
  },
  {
   "cell_type": "code",
   "execution_count": null,
   "metadata": {},
   "outputs": [],
   "source": [
    "ages = [19, 22, 19, 24, 20, 25, 26, 24, 25, 24]\n",
    "\n",
    "# Calculate the sum of the ages\n",
    "sum_of_ages = sum(ages)\n",
    "\n",
    "# Calculate the number of elements in the list\n",
    "num_of_ages = len(ages)\n",
    "\n",
    "# Calculate the average age\n",
    "average_age = sum_of_ages / num_of_ages\n",
    "\n",
    "# Print the average age\n",
    "print(\"Average age:\", average_age)"
   ]
  },
  {
   "cell_type": "markdown",
   "metadata": {},
   "source": [
    "# Find the range of the ages (max minus min)"
   ]
  },
  {
   "cell_type": "code",
   "execution_count": null,
   "metadata": {},
   "outputs": [],
   "source": [
    "ages = [19, 22, 19, 24, 20, 25, 26, 24, 25, 24]\n",
    "\n",
    "# Find the maximum and minimum ages\n",
    "max_age = max(ages)\n",
    "min_age = min(ages)\n",
    "\n",
    "# Calculate the range\n",
    "age_range = max_age - min_age\n",
    "\n",
    "# Print the range\n",
    "print(\"Range of ages:\", age_range)"
   ]
  },
  {
   "cell_type": "markdown",
   "metadata": {},
   "source": [
    "# Compare the value of (min - average) and (max - average), use abs() method"
   ]
  },
  {
   "cell_type": "code",
   "execution_count": null,
   "metadata": {},
   "outputs": [],
   "source": [
    "ages = [19, 22, 19, 24, 20, 25, 26, 24, 25, 24]\n",
    "\n",
    "# Calculate the sum of the ages\n",
    "sum_of_ages = sum(ages)\n",
    "\n",
    "# Calculate the number of elements in the list\n",
    "num_of_ages = len(ages)\n",
    "\n",
    "# Calculate the average age\n",
    "average_age = sum_of_ages / num_of_ages\n",
    "\n",
    "# Find the maximum and minimum ages\n",
    "max_age = max(ages)\n",
    "min_age = min(ages)\n",
    "\n",
    "# Calculate the absolute differences\n",
    "min_diff = abs(min_age - average_age)\n",
    "max_diff = abs(max_age - average_age)\n",
    "\n",
    "# Print the differences\n",
    "print(\"Absolute difference (min - average):\", min_diff)\n",
    "print(\"Absolute difference (max - average):\", max_diff)"
   ]
  },
  {
   "cell_type": "markdown",
   "metadata": {},
   "source": [
    "# Find the middle country(ies) in the countries list"
   ]
  },
  {
   "cell_type": "code",
   "execution_count": null,
   "metadata": {},
   "outputs": [],
   "source": [
    "countries = ['USA', 'Canada', 'Mexico', 'Brazil', 'Argentina', 'Germany', 'India']\n",
    "\n",
    "# Find the length of the list\n",
    "n = len(countries)\n",
    "\n",
    "# Check if the number of countries is odd or even\n",
    "if n % 2 == 1:\n",
    "    # If odd, the middle country is the one at index n // 2\n",
    "    middle_country = countries[n // 2]\n",
    "    print(\"Middle country:\", middle_country)\n",
    "else:\n",
    "    # If even, the middle countries are at indices n // 2 - 1 and n // 2\n",
    "    middle_countries = countries[n // 2 - 1 : n // 2 + 1]\n",
    "    print(\"Middle countries:\", middle_countries)"
   ]
  },
  {
   "cell_type": "markdown",
   "metadata": {},
   "source": [
    "# Divide the countries list into two equal lists if it is even if not one more country for the first half."
   ]
  },
  {
   "cell_type": "code",
   "execution_count": null,
   "metadata": {},
   "outputs": [],
   "source": [
    "countries = ['USA', 'Canada', 'Mexico', 'Brazil', 'Argentina', 'Germany', 'India']\n",
    "\n",
    "# Find the length of the list\n",
    "n = len(countries)\n",
    "\n",
    "# Calculate the midpoint\n",
    "midpoint = (n + 1) // 2  # Add 1 to n if it's odd, so the first half will have one more element\n",
    "\n",
    "# Divide the list into two halves\n",
    "first_half = countries[:midpoint]\n",
    "second_half = countries[midpoint:]\n",
    "\n",
    "# Print the two halves\n",
    "print(\"First half:\", first_half)\n",
    "print(\"Second half:\", second_half)"
   ]
  },
  {
   "cell_type": "markdown",
   "metadata": {},
   "source": [
    "# ['China', 'Russia', 'USA', 'Finland', 'Sweden', 'Norway', 'Denmark']. Unpack the first three countries and the rest as scandic countries."
   ]
  },
  {
   "cell_type": "code",
   "execution_count": null,
   "metadata": {},
   "outputs": [],
   "source": [
    "countries = ['China', 'Russia', 'USA', 'Finland', 'Sweden', 'Norway', 'Denmark']\n",
    "\n",
    "# Unpack the first three countries and the rest as Scandic countries\n",
    "first_three, *scandic_countries = countries\n",
    "\n",
    "# Print the unpacked countries\n",
    "print(\"First three countries:\", first_three)\n",
    "print(\"Scandic countries:\", scandic_countries)"
   ]
  },
  {
   "cell_type": "markdown",
   "metadata": {},
   "source": [
    "# Tuple Exercises\n",
    "# Tuple Exercises: Level 1"
   ]
  },
  {
   "cell_type": "markdown",
   "metadata": {},
   "source": [
    "# Create an empty tuple"
   ]
  },
  {
   "cell_type": "code",
   "execution_count": null,
   "metadata": {},
   "outputs": [],
   "source": [
    "empty_tuple = ()\n",
    "print(\"Empty tuple:\", empty_tuple)"
   ]
  },
  {
   "cell_type": "markdown",
   "metadata": {},
   "source": [
    "Create a tuple containing names of your sisters and your brothers (imaginary siblings are fine)"
   ]
  },
  {
   "cell_type": "code",
   "execution_count": null,
   "metadata": {},
   "outputs": [],
   "source": [
    "brothers = ('Musa', 'Abubakar', 'Ibrahim')\n",
    "sisters = ('Safiyya', 'Fatima')\n",
    "print(\"Brothers:\", brothers)\n",
    "print(\"Sisters:\", sisters)"
   ]
  },
  {
   "cell_type": "markdown",
   "metadata": {},
   "source": [
    "# Join brothers and sisters tuples and assign it to siblings"
   ]
  },
  {
   "cell_type": "code",
   "execution_count": null,
   "metadata": {},
   "outputs": [],
   "source": [
    "siblings = brothers + sisters\n",
    "print(\"Siblings:\", siblings)"
   ]
  },
  {
   "cell_type": "markdown",
   "metadata": {},
   "source": [
    "# How many siblings do you have?"
   ]
  },
  {
   "cell_type": "code",
   "execution_count": null,
   "metadata": {},
   "outputs": [],
   "source": [
    "number_of_siblings = len(siblings)\n",
    "print(\"Number of siblings:\", number_of_siblings)"
   ]
  },
  {
   "cell_type": "markdown",
   "metadata": {},
   "source": [
    "# Modify the siblings tuple and add the name of your father and mother and assign it to family_members"
   ]
  }
 ],
 "metadata": {
  "kernelspec": {
   "display_name": "base",
   "language": "python",
   "name": "python3"
  },
  "language_info": {
   "codemirror_mode": {
    "name": "ipython",
    "version": 3
   },
   "file_extension": ".py",
   "mimetype": "text/x-python",
   "name": "python",
   "nbconvert_exporter": "python",
   "pygments_lexer": "ipython3",
   "version": "3.12.3"
  }
 },
 "nbformat": 4,
 "nbformat_minor": 2
}
